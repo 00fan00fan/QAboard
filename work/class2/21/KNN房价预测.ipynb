{
 "cells": [
  {
   "cell_type": "code",
   "execution_count": 1,
   "metadata": {},
   "outputs": [],
   "source": [
    "from sklearn.model_selection import train_test_split\n",
    "from sklearn.neighbors import KNeighborsRegressor\n",
    "import os\n",
    "import numpy as np\n",
    "import matplotlib.pyplot as plt\n",
    "import pandas as pd"
   ]
  },
  {
   "cell_type": "code",
   "execution_count": 2,
   "metadata": {},
   "outputs": [
    {
     "data": {
      "text/html": [
       "<div>\n",
       "<style scoped>\n",
       "    .dataframe tbody tr th:only-of-type {\n",
       "        vertical-align: middle;\n",
       "    }\n",
       "\n",
       "    .dataframe tbody tr th {\n",
       "        vertical-align: top;\n",
       "    }\n",
       "\n",
       "    .dataframe thead th {\n",
       "        text-align: right;\n",
       "    }\n",
       "</style>\n",
       "<table border=\"1\" class=\"dataframe\">\n",
       "  <thead>\n",
       "    <tr style=\"text-align: right;\">\n",
       "      <th></th>\n",
       "      <th>CRIM</th>\n",
       "      <th>ZN</th>\n",
       "      <th>INDUS</th>\n",
       "      <th>CHAS</th>\n",
       "      <th>NOX</th>\n",
       "      <th>RM</th>\n",
       "      <th>AGE</th>\n",
       "      <th>DIS</th>\n",
       "      <th>RAD</th>\n",
       "      <th>TAX</th>\n",
       "      <th>PTRATIO</th>\n",
       "      <th>B</th>\n",
       "      <th>LSTAT</th>\n",
       "      <th>MEDV</th>\n",
       "    </tr>\n",
       "  </thead>\n",
       "  <tbody>\n",
       "    <tr>\n",
       "      <th>0</th>\n",
       "      <td>0.00632</td>\n",
       "      <td>18.0</td>\n",
       "      <td>2.31</td>\n",
       "      <td>0</td>\n",
       "      <td>0.538</td>\n",
       "      <td>6.575</td>\n",
       "      <td>65.2</td>\n",
       "      <td>4.0900</td>\n",
       "      <td>1</td>\n",
       "      <td>296.0</td>\n",
       "      <td>15.3</td>\n",
       "      <td>396.90</td>\n",
       "      <td>4.98</td>\n",
       "      <td>24.0</td>\n",
       "    </tr>\n",
       "    <tr>\n",
       "      <th>1</th>\n",
       "      <td>0.02731</td>\n",
       "      <td>0.0</td>\n",
       "      <td>7.07</td>\n",
       "      <td>0</td>\n",
       "      <td>0.469</td>\n",
       "      <td>6.421</td>\n",
       "      <td>78.9</td>\n",
       "      <td>4.9671</td>\n",
       "      <td>2</td>\n",
       "      <td>242.0</td>\n",
       "      <td>17.8</td>\n",
       "      <td>396.90</td>\n",
       "      <td>9.14</td>\n",
       "      <td>21.6</td>\n",
       "    </tr>\n",
       "    <tr>\n",
       "      <th>2</th>\n",
       "      <td>0.02729</td>\n",
       "      <td>0.0</td>\n",
       "      <td>7.07</td>\n",
       "      <td>0</td>\n",
       "      <td>0.469</td>\n",
       "      <td>7.185</td>\n",
       "      <td>61.1</td>\n",
       "      <td>4.9671</td>\n",
       "      <td>2</td>\n",
       "      <td>242.0</td>\n",
       "      <td>17.8</td>\n",
       "      <td>392.83</td>\n",
       "      <td>4.03</td>\n",
       "      <td>34.7</td>\n",
       "    </tr>\n",
       "    <tr>\n",
       "      <th>3</th>\n",
       "      <td>0.03237</td>\n",
       "      <td>0.0</td>\n",
       "      <td>2.18</td>\n",
       "      <td>0</td>\n",
       "      <td>0.458</td>\n",
       "      <td>6.998</td>\n",
       "      <td>45.8</td>\n",
       "      <td>6.0622</td>\n",
       "      <td>3</td>\n",
       "      <td>222.0</td>\n",
       "      <td>18.7</td>\n",
       "      <td>394.63</td>\n",
       "      <td>2.94</td>\n",
       "      <td>33.4</td>\n",
       "    </tr>\n",
       "    <tr>\n",
       "      <th>4</th>\n",
       "      <td>0.06905</td>\n",
       "      <td>0.0</td>\n",
       "      <td>2.18</td>\n",
       "      <td>0</td>\n",
       "      <td>0.458</td>\n",
       "      <td>7.147</td>\n",
       "      <td>54.2</td>\n",
       "      <td>6.0622</td>\n",
       "      <td>3</td>\n",
       "      <td>222.0</td>\n",
       "      <td>18.7</td>\n",
       "      <td>396.90</td>\n",
       "      <td>5.33</td>\n",
       "      <td>36.2</td>\n",
       "    </tr>\n",
       "  </tbody>\n",
       "</table>\n",
       "</div>"
      ],
      "text/plain": [
       "      CRIM    ZN  INDUS  CHAS    NOX     RM   AGE     DIS  RAD    TAX  \\\n",
       "0  0.00632  18.0   2.31     0  0.538  6.575  65.2  4.0900    1  296.0   \n",
       "1  0.02731   0.0   7.07     0  0.469  6.421  78.9  4.9671    2  242.0   \n",
       "2  0.02729   0.0   7.07     0  0.469  7.185  61.1  4.9671    2  242.0   \n",
       "3  0.03237   0.0   2.18     0  0.458  6.998  45.8  6.0622    3  222.0   \n",
       "4  0.06905   0.0   2.18     0  0.458  7.147  54.2  6.0622    3  222.0   \n",
       "\n",
       "   PTRATIO       B  LSTAT  MEDV  \n",
       "0     15.3  396.90   4.98  24.0  \n",
       "1     17.8  396.90   9.14  21.6  \n",
       "2     17.8  392.83   4.03  34.7  \n",
       "3     18.7  394.63   2.94  33.4  \n",
       "4     18.7  396.90   5.33  36.2  "
      ]
     },
     "execution_count": 2,
     "metadata": {},
     "output_type": "execute_result"
    }
   ],
   "source": [
    "## 读取数据\n",
    "data = pd.read_csv(\"./housingPrice/housing.data.txt\",sep=\"\\t\",header=None,names=['CRIM','ZN','INDUS','CHAS','NOX','RM','AGE','DIS','RAD','TAX','PTRATIO','B','LSTAT','MEDV'])\n",
    "data.head()"
   ]
  },
  {
   "cell_type": "code",
   "execution_count": 3,
   "metadata": {},
   "outputs": [],
   "source": [
    "y_data = data[\"MEDV\"].values\n",
    "x_data = data.drop(\"MEDV\",axis=1).values"
   ]
  },
  {
   "cell_type": "code",
   "execution_count": 4,
   "metadata": {},
   "outputs": [
    {
     "name": "stdout",
     "output_type": "stream",
     "text": [
      "(506, 13) (506,)\n"
     ]
    }
   ],
   "source": [
    "print(x_data.shape,y_data.shape)"
   ]
  },
  {
   "cell_type": "code",
   "execution_count": 5,
   "metadata": {},
   "outputs": [
    {
     "data": {
      "text/plain": [
       "KNeighborsRegressor(algorithm='auto', leaf_size=30, metric='minkowski',\n",
       "          metric_params=None, n_jobs=1, n_neighbors=5, p=2,\n",
       "          weights='distance')"
      ]
     },
     "execution_count": 5,
     "metadata": {},
     "output_type": "execute_result"
    }
   ],
   "source": [
    "x_train,x_test,y_train,y_test = train_test_split(x_data,y_data,test_size=0.2,random_state=1)\n",
    "knr = KNeighborsRegressor(5,weights='distance')\n",
    "knr.fit(x_train,y_train)"
   ]
  },
  {
   "cell_type": "code",
   "execution_count": 6,
   "metadata": {},
   "outputs": [],
   "source": [
    "pretd= knr.predict(x_test)"
   ]
  },
  {
   "cell_type": "code",
   "execution_count": 7,
   "metadata": {},
   "outputs": [
    {
     "data": {
      "image/png": "[encoded data removed]",
      "text/plain": [
       "<Figure size 432x288 with 1 Axes>"
      ]
     },
     "metadata": {
      "needs_background": "light"
     },
     "output_type": "display_data"
    }
   ],
   "source": [
    "x = range(1,len(y_test)+1)\n",
    "\n",
    "plt.scatter(x,y_test,c='g',label='data',s=100)\n",
    "plt.plot(x,pretd,c='k',label='predi',lw=4)\n",
    "plt.show()"
   ]
  },
  {
   "cell_type": "code",
   "execution_count": 8,
   "metadata": {},
   "outputs": [
    {
     "data": {
      "text/plain": [
       "(array([ 3.,  1.,  7.,  7.,  3.,  6.,  8., 10.,  8., 23., 15., 19., 14.,\n",
       "        16., 18., 28., 36., 29., 33., 28., 37., 21., 15.,  4.,  7., 11.,\n",
       "         9.,  9.,  5.,  7.,  7.,  8.,  2.,  8.,  5.,  4.,  2.,  1.,  1.,\n",
       "         0.,  2.,  2.,  2.,  2.,  2.,  1.,  1.,  0.,  3., 16.]),\n",
       " array([ 5. ,  5.9,  6.8,  7.7,  8.6,  9.5, 10.4, 11.3, 12.2, 13.1, 14. ,\n",
       "        14.9, 15.8, 16.7, 17.6, 18.5, 19.4, 20.3, 21.2, 22.1, 23. , 23.9,\n",
       "        24.8, 25.7, 26.6, 27.5, 28.4, 29.3, 30.2, 31.1, 32. , 32.9, 33.8,\n",
       "        34.7, 35.6, 36.5, 37.4, 38.3, 39.2, 40.1, 41. , 41.9, 42.8, 43.7,\n",
       "        44.6, 45.5, 46.4, 47.3, 48.2, 49.1, 50. ]),\n",
       " <a list of 50 Patch objects>)"
      ]
     },
     "execution_count": 8,
     "metadata": {},
     "output_type": "execute_result"
    },
    {
     "data": {
      "image/png": "[encoded data removed]",
      "text/plain": [
       "<Figure size 432x288 with 1 Axes>"
      ]
     },
     "metadata": {
      "needs_background": "light"
     },
     "output_type": "display_data"
    }
   ],
   "source": [
    "y = data[\"MEDV\"].values.ravel()\n",
    "x = np.linspace(min(y),max(y),len(y)).ravel()\n",
    "plt.hist(y,50)"
   ]
  },
  {
   "cell_type": "code",
   "execution_count": 9,
   "metadata": {},
   "outputs": [
    {
     "data": {
      "text/plain": [
       "numpy.ndarray"
      ]
     },
     "execution_count": 9,
     "metadata": {},
     "output_type": "execute_result"
    }
   ],
   "source": [
    "type(x_test)"
   ]
  },
  {
   "cell_type": "code",
   "execution_count": 10,
   "metadata": {},
   "outputs": [],
   "source": [
    "import pandas as pd\n",
    "x_p = pd.DataFrame(x_test)\n",
    "y_p = pd.DataFrame(y_test)\n",
    "x_p[\"label\"] = y_p\n",
    "# x_p.head()\n",
    "# help(x_p.sort_values)\n",
    "x_p_s = x_p.sort_values(\"label\",inplace=False)"
   ]
  },
  {
   "cell_type": "code",
   "execution_count": 11,
   "metadata": {},
   "outputs": [
    {
     "data": {
      "text/html": [
       "<div>\n",
       "<style scoped>\n",
       "    .dataframe tbody tr th:only-of-type {\n",
       "        vertical-align: middle;\n",
       "    }\n",
       "\n",
       "    .dataframe tbody tr th {\n",
       "        vertical-align: top;\n",
       "    }\n",
       "\n",
       "    .dataframe thead th {\n",
       "        text-align: right;\n",
       "    }\n",
       "</style>\n",
       "<table border=\"1\" class=\"dataframe\">\n",
       "  <thead>\n",
       "    <tr style=\"text-align: right;\">\n",
       "      <th></th>\n",
       "      <th>0</th>\n",
       "      <th>1</th>\n",
       "      <th>2</th>\n",
       "      <th>3</th>\n",
       "      <th>4</th>\n",
       "      <th>5</th>\n",
       "      <th>6</th>\n",
       "      <th>7</th>\n",
       "      <th>8</th>\n",
       "      <th>9</th>\n",
       "      <th>10</th>\n",
       "      <th>11</th>\n",
       "      <th>12</th>\n",
       "      <th>label</th>\n",
       "    </tr>\n",
       "  </thead>\n",
       "  <tbody>\n",
       "    <tr>\n",
       "      <th>56</th>\n",
       "      <td>9.91655</td>\n",
       "      <td>0.0</td>\n",
       "      <td>18.10</td>\n",
       "      <td>0.0</td>\n",
       "      <td>0.693</td>\n",
       "      <td>5.852</td>\n",
       "      <td>77.8</td>\n",
       "      <td>1.5004</td>\n",
       "      <td>24.0</td>\n",
       "      <td>666.0</td>\n",
       "      <td>20.2</td>\n",
       "      <td>338.16</td>\n",
       "      <td>29.97</td>\n",
       "      <td>6.3</td>\n",
       "    </tr>\n",
       "    <tr>\n",
       "      <th>54</th>\n",
       "      <td>0.20746</td>\n",
       "      <td>0.0</td>\n",
       "      <td>27.74</td>\n",
       "      <td>0.0</td>\n",
       "      <td>0.609</td>\n",
       "      <td>5.093</td>\n",
       "      <td>98.0</td>\n",
       "      <td>1.8226</td>\n",
       "      <td>4.0</td>\n",
       "      <td>711.0</td>\n",
       "      <td>20.1</td>\n",
       "      <td>318.43</td>\n",
       "      <td>29.68</td>\n",
       "      <td>8.1</td>\n",
       "    </tr>\n",
       "    <tr>\n",
       "      <th>25</th>\n",
       "      <td>15.86030</td>\n",
       "      <td>0.0</td>\n",
       "      <td>18.10</td>\n",
       "      <td>0.0</td>\n",
       "      <td>0.679</td>\n",
       "      <td>5.896</td>\n",
       "      <td>95.4</td>\n",
       "      <td>1.9096</td>\n",
       "      <td>24.0</td>\n",
       "      <td>666.0</td>\n",
       "      <td>20.2</td>\n",
       "      <td>7.68</td>\n",
       "      <td>24.39</td>\n",
       "      <td>8.3</td>\n",
       "    </tr>\n",
       "    <tr>\n",
       "      <th>45</th>\n",
       "      <td>11.81230</td>\n",
       "      <td>0.0</td>\n",
       "      <td>18.10</td>\n",
       "      <td>0.0</td>\n",
       "      <td>0.718</td>\n",
       "      <td>6.824</td>\n",
       "      <td>76.5</td>\n",
       "      <td>1.7940</td>\n",
       "      <td>24.0</td>\n",
       "      <td>666.0</td>\n",
       "      <td>20.2</td>\n",
       "      <td>48.45</td>\n",
       "      <td>22.74</td>\n",
       "      <td>8.4</td>\n",
       "    </tr>\n",
       "    <tr>\n",
       "      <th>62</th>\n",
       "      <td>7.67202</td>\n",
       "      <td>0.0</td>\n",
       "      <td>18.10</td>\n",
       "      <td>0.0</td>\n",
       "      <td>0.693</td>\n",
       "      <td>5.747</td>\n",
       "      <td>98.9</td>\n",
       "      <td>1.6334</td>\n",
       "      <td>24.0</td>\n",
       "      <td>666.0</td>\n",
       "      <td>20.2</td>\n",
       "      <td>393.10</td>\n",
       "      <td>19.92</td>\n",
       "      <td>8.5</td>\n",
       "    </tr>\n",
       "  </tbody>\n",
       "</table>\n",
       "</div>"
      ],
      "text/plain": [
       "           0    1      2    3      4      5     6       7     8      9    10  \\\n",
       "56   9.91655  0.0  18.10  0.0  0.693  5.852  77.8  1.5004  24.0  666.0  20.2   \n",
       "54   0.20746  0.0  27.74  0.0  0.609  5.093  98.0  1.8226   4.0  711.0  20.1   \n",
       "25  15.86030  0.0  18.10  0.0  0.679  5.896  95.4  1.9096  24.0  666.0  20.2   \n",
       "45  11.81230  0.0  18.10  0.0  0.718  6.824  76.5  1.7940  24.0  666.0  20.2   \n",
       "62   7.67202  0.0  18.10  0.0  0.693  5.747  98.9  1.6334  24.0  666.0  20.2   \n",
       "\n",
       "        11     12  label  \n",
       "56  338.16  29.97    6.3  \n",
       "54  318.43  29.68    8.1  \n",
       "25    7.68  24.39    8.3  \n",
       "45   48.45  22.74    8.4  \n",
       "62  393.10  19.92    8.5  "
      ]
     },
     "execution_count": 11,
     "metadata": {},
     "output_type": "execute_result"
    }
   ],
   "source": [
    "x_p_s.head()"
   ]
  },
  {
   "cell_type": "code",
   "execution_count": 12,
   "metadata": {},
   "outputs": [],
   "source": [
    "s_y_test = x_p_s[\"label\"].values\n",
    "s_x_test = x_p_s.drop(\"label\",axis=1).values\n",
    "x_num = np.linspace(1,1000,len(s_y_test)) # range(1,len(s_y_test)+1,3)"
   ]
  },
  {
   "cell_type": "code",
   "execution_count": 13,
   "metadata": {},
   "outputs": [],
   "source": [
    "s_y_pred = knr.predict(s_x_test)"
   ]
  },
  {
   "cell_type": "code",
   "execution_count": 14,
   "metadata": {},
   "outputs": [
    {
     "data": {
      "image/png": "[encoded data removed]",
      "text/plain": [
       "<Figure size 432x288 with 1 Axes>"
      ]
     },
     "metadata": {
      "needs_background": "light"
     },
     "output_type": "display_data"
    }
   ],
   "source": [
    "plt.scatter(x_num,s_y_test,c='g',s=100)\n",
    "plt.plot(x_num,s_y_pred,c='k',lw=4)\n",
    "plt.show()"
   ]
  },
  {
   "cell_type": "code",
   "execution_count": 15,
   "metadata": {},
   "outputs": [
    {
     "data": {
      "text/plain": [
       "64.920124206116"
      ]
     },
     "execution_count": 15,
     "metadata": {},
     "output_type": "execute_result"
    }
   ],
   "source": [
    "np.sqrt(np.sum((s_y_test-s_y_pred)**2))"
   ]
  },
  {
   "cell_type": "code",
   "execution_count": 16,
   "metadata": {},
   "outputs": [],
   "source": [
    "# help(KNeighborsRegressor)"
   ]
  },
  {
   "cell_type": "code",
   "execution_count": 17,
   "metadata": {},
   "outputs": [],
   "source": [
    "from sklearn.preprocessing import MinMaxScaler\n",
    "mm = MinMaxScaler()\n",
    "x_data = mm.fit_transform(x_data)\n",
    "x_train,x_test,y_train,y_test = train_test_split(x_data,y_data,test_size=0.1)\n",
    "x_test = pd.DataFrame(x_test)\n",
    "x_test[\"label\"] = pd.DataFrame(y_test)\n",
    "x_test.sort_values(\"label\",inplace=True)\n",
    "y_test = x_test[\"label\"].values\n",
    "x_test = x_test.drop(\"label\",axis=1).values"
   ]
  },
  {
   "cell_type": "code",
   "execution_count": 18,
   "metadata": {},
   "outputs": [
    {
     "data": {
      "text/plain": [
       "KNeighborsRegressor(algorithm='auto', leaf_size=30, metric='minkowski',\n",
       "          metric_params=None, n_jobs=1, n_neighbors=5, p=2,\n",
       "          weights='uniform')"
      ]
     },
     "execution_count": 18,
     "metadata": {},
     "output_type": "execute_result"
    }
   ],
   "source": [
    "knnh = KNeighborsRegressor(n_neighbors=5)\n",
    "knnh.fit(x_train,y_train)"
   ]
  },
  {
   "cell_type": "code",
   "execution_count": 19,
   "metadata": {},
   "outputs": [],
   "source": [
    "predh = knnh.predict(x_test)"
   ]
  },
  {
   "cell_type": "code",
   "execution_count": 20,
   "metadata": {},
   "outputs": [
    {
     "data": {
      "text/plain": [
       "40.87511223226182"
      ]
     },
     "execution_count": 20,
     "metadata": {},
     "output_type": "execute_result"
    }
   ],
   "source": [
    "np.sqrt(np.sum((predh-y_test)**2))"
   ]
  },
  {
   "cell_type": "code",
   "execution_count": 21,
   "metadata": {},
   "outputs": [
    {
     "data": {
      "image/png": "[encoded data removed]",
      "text/plain": [
       "<Figure size 432x288 with 1 Axes>"
      ]
     },
     "metadata": {
      "needs_background": "light"
     },
     "output_type": "display_data"
    }
   ],
   "source": [
    "x = np.linspace(1,1000,len(y_test))\n",
    "plt.scatter(x,y_test,c='b',s=5)\n",
    "plt.plot(x,predh,c='k',lw=2)\n",
    "plt.show()"
   ]
  },
  {
   "cell_type": "code",
   "execution_count": 22,
   "metadata": {},
   "outputs": [
    {
     "data": {
      "text/plain": [
       "array([8, 9], dtype=int64)"
      ]
     },
     "execution_count": 22,
     "metadata": {},
     "output_type": "execute_result"
    }
   ],
   "source": [
    "#特征选择\n",
    "from sklearn.feature_selection import VarianceThreshold\n",
    "vt = VarianceThreshold(0.1)\n",
    "vt.fit_transform(x_data,y_data)\n",
    "vt.get_support(True)"
   ]
  },
  {
   "cell_type": "code",
   "execution_count": 23,
   "metadata": {},
   "outputs": [],
   "source": [
    "y_data = data[\"MEDV\"].values\n",
    "x_data = data.drop(\"MEDV\",axis=1).values\n",
    "mm = MinMaxScaler()\n",
    "x_data = mm.fit_transform(x_data)"
   ]
  },
  {
   "cell_type": "code",
   "execution_count": 24,
   "metadata": {},
   "outputs": [
    {
     "data": {
      "text/plain": [
       "(506, 13)"
      ]
     },
     "execution_count": 24,
     "metadata": {},
     "output_type": "execute_result"
    }
   ],
   "source": [
    "x_data.shape"
   ]
  },
  {
   "cell_type": "code",
   "execution_count": 25,
   "metadata": {},
   "outputs": [
    {
     "data": {
      "text/plain": [
       "array([ 5, 10, 12], dtype=int64)"
      ]
     },
     "execution_count": 25,
     "metadata": {},
     "output_type": "execute_result"
    }
   ],
   "source": [
    "#卡方\n",
    "from sklearn.feature_selection import SelectKBest,f_regression\n",
    "select = SelectKBest(f_regression,k=3)\n",
    "select.fit_transform(x_data,y_data)\n",
    "select.get_support(True)"
   ]
  },
  {
   "cell_type": "code",
   "execution_count": 26,
   "metadata": {},
   "outputs": [
    {
     "data": {
      "text/plain": [
       "(506, 3)"
      ]
     },
     "execution_count": 26,
     "metadata": {},
     "output_type": "execute_result"
    }
   ],
   "source": [
    "x_data = x_data[:,[ 5, 10, 12]]\n",
    "x_data.shape"
   ]
  },
  {
   "cell_type": "code",
   "execution_count": 27,
   "metadata": {},
   "outputs": [
    {
     "data": {
      "text/plain": [
       "36.209611983560386"
      ]
     },
     "execution_count": 27,
     "metadata": {},
     "output_type": "execute_result"
    }
   ],
   "source": [
    "x_train,x_test,y_train,y_test = train_test_split(x_data,y_data,test_size=0.1)\n",
    "x_test = pd.DataFrame(x_test)\n",
    "x_test[\"label\"] = pd.DataFrame(y_test)\n",
    "x_test.sort_values(\"label\",inplace=True)\n",
    "y_test = x_test[\"label\"].values\n",
    "x_test = x_test.drop(\"label\",axis=1).values\n",
    "knnh = KNeighborsRegressor(n_neighbors=5)\n",
    "knnh.fit(x_train,y_train)\n",
    "predh = knnh.predict(x_test)\n",
    "np.sqrt(np.sum((predh-y_test)**2))"
   ]
  },
  {
   "cell_type": "code",
   "execution_count": 28,
   "metadata": {},
   "outputs": [
    {
     "data": {
      "text/html": [
       "<div>\n",
       "<style scoped>\n",
       "    .dataframe tbody tr th:only-of-type {\n",
       "        vertical-align: middle;\n",
       "    }\n",
       "\n",
       "    .dataframe tbody tr th {\n",
       "        vertical-align: top;\n",
       "    }\n",
       "\n",
       "    .dataframe thead th {\n",
       "        text-align: right;\n",
       "    }\n",
       "</style>\n",
       "<table border=\"1\" class=\"dataframe\">\n",
       "  <thead>\n",
       "    <tr style=\"text-align: right;\">\n",
       "      <th></th>\n",
       "      <th>CRIM</th>\n",
       "      <th>ZN</th>\n",
       "      <th>INDUS</th>\n",
       "      <th>CHAS</th>\n",
       "      <th>NOX</th>\n",
       "      <th>RM</th>\n",
       "      <th>AGE</th>\n",
       "      <th>DIS</th>\n",
       "      <th>RAD</th>\n",
       "      <th>TAX</th>\n",
       "      <th>PTRATIO</th>\n",
       "      <th>B</th>\n",
       "      <th>LSTAT</th>\n",
       "      <th>MEDV</th>\n",
       "    </tr>\n",
       "  </thead>\n",
       "  <tbody>\n",
       "    <tr>\n",
       "      <th>0</th>\n",
       "      <td>0.00632</td>\n",
       "      <td>18.0</td>\n",
       "      <td>2.31</td>\n",
       "      <td>0</td>\n",
       "      <td>0.538</td>\n",
       "      <td>6.575</td>\n",
       "      <td>65.2</td>\n",
       "      <td>4.0900</td>\n",
       "      <td>1</td>\n",
       "      <td>296.0</td>\n",
       "      <td>15.3</td>\n",
       "      <td>396.90</td>\n",
       "      <td>4.98</td>\n",
       "      <td>24.0</td>\n",
       "    </tr>\n",
       "    <tr>\n",
       "      <th>1</th>\n",
       "      <td>0.02731</td>\n",
       "      <td>0.0</td>\n",
       "      <td>7.07</td>\n",
       "      <td>0</td>\n",
       "      <td>0.469</td>\n",
       "      <td>6.421</td>\n",
       "      <td>78.9</td>\n",
       "      <td>4.9671</td>\n",
       "      <td>2</td>\n",
       "      <td>242.0</td>\n",
       "      <td>17.8</td>\n",
       "      <td>396.90</td>\n",
       "      <td>9.14</td>\n",
       "      <td>21.6</td>\n",
       "    </tr>\n",
       "    <tr>\n",
       "      <th>2</th>\n",
       "      <td>0.02729</td>\n",
       "      <td>0.0</td>\n",
       "      <td>7.07</td>\n",
       "      <td>0</td>\n",
       "      <td>0.469</td>\n",
       "      <td>7.185</td>\n",
       "      <td>61.1</td>\n",
       "      <td>4.9671</td>\n",
       "      <td>2</td>\n",
       "      <td>242.0</td>\n",
       "      <td>17.8</td>\n",
       "      <td>392.83</td>\n",
       "      <td>4.03</td>\n",
       "      <td>34.7</td>\n",
       "    </tr>\n",
       "    <tr>\n",
       "      <th>3</th>\n",
       "      <td>0.03237</td>\n",
       "      <td>0.0</td>\n",
       "      <td>2.18</td>\n",
       "      <td>0</td>\n",
       "      <td>0.458</td>\n",
       "      <td>6.998</td>\n",
       "      <td>45.8</td>\n",
       "      <td>6.0622</td>\n",
       "      <td>3</td>\n",
       "      <td>222.0</td>\n",
       "      <td>18.7</td>\n",
       "      <td>394.63</td>\n",
       "      <td>2.94</td>\n",
       "      <td>33.4</td>\n",
       "    </tr>\n",
       "    <tr>\n",
       "      <th>4</th>\n",
       "      <td>0.06905</td>\n",
       "      <td>0.0</td>\n",
       "      <td>2.18</td>\n",
       "      <td>0</td>\n",
       "      <td>0.458</td>\n",
       "      <td>7.147</td>\n",
       "      <td>54.2</td>\n",
       "      <td>6.0622</td>\n",
       "      <td>3</td>\n",
       "      <td>222.0</td>\n",
       "      <td>18.7</td>\n",
       "      <td>396.90</td>\n",
       "      <td>5.33</td>\n",
       "      <td>36.2</td>\n",
       "    </tr>\n",
       "  </tbody>\n",
       "</table>\n",
       "</div>"
      ],
      "text/plain": [
       "      CRIM    ZN  INDUS  CHAS    NOX     RM   AGE     DIS  RAD    TAX  \\\n",
       "0  0.00632  18.0   2.31     0  0.538  6.575  65.2  4.0900    1  296.0   \n",
       "1  0.02731   0.0   7.07     0  0.469  6.421  78.9  4.9671    2  242.0   \n",
       "2  0.02729   0.0   7.07     0  0.469  7.185  61.1  4.9671    2  242.0   \n",
       "3  0.03237   0.0   2.18     0  0.458  6.998  45.8  6.0622    3  222.0   \n",
       "4  0.06905   0.0   2.18     0  0.458  7.147  54.2  6.0622    3  222.0   \n",
       "\n",
       "   PTRATIO       B  LSTAT  MEDV  \n",
       "0     15.3  396.90   4.98  24.0  \n",
       "1     17.8  396.90   9.14  21.6  \n",
       "2     17.8  392.83   4.03  34.7  \n",
       "3     18.7  394.63   2.94  33.4  \n",
       "4     18.7  396.90   5.33  36.2  "
      ]
     },
     "execution_count": 28,
     "metadata": {},
     "output_type": "execute_result"
    }
   ],
   "source": [
    "#再次优化\n",
    "data.head()"
   ]
  },
  {
   "cell_type": "code",
   "execution_count": 29,
   "metadata": {},
   "outputs": [],
   "source": [
    "#1.选择特征\n",
    "#2.归一化（或者标准化）\n",
    "#3.训练\n",
    "#4.评估\n",
    "#5.筛选\n",
    "from  sklearn.preprocessing import StandardScaler\n",
    "from sklearn.metrics import mean_squared_error\n",
    "\n",
    "def feture_choice(x_data,y_data):\n",
    "    choice = SelectKBest(f_regression,k=3)\n",
    "    choice.fit_transform(x_data,y_data)\n",
    "    return choice.get_support(True)\n",
    "\n",
    "def nomalization_feture(x_train,x_test):\n",
    "    stand = StandardScaler()\n",
    "    stand_train = stand.fit_transform(x_train)\n",
    "    stand_test = stand.transform(x_test)\n",
    "    return (stand_train,stand_test)\n",
    "\n",
    "def nomalization_feture2(x_train,x_test):\n",
    "    stand = MinMaxScaler()\n",
    "    stand_train = stand.fit_transform(x_train)\n",
    "    stand_test = stand.transform(x_test)\n",
    "    return (stand_train,stand_test)\n",
    "\n",
    "def sort_y(x_data,y_data):\n",
    "    x_data[\"label\"] = y_data\n",
    "    x_data.sort_values(\"label\",inplace=True)\n",
    "    return (x_data.drop(\"label\",axis=1).values,x_data[\"label\"].values)\n",
    "\n",
    "def evaluate(y_test,y_pred):\n",
    "    ev1 = mean_squared_error(y_test,y_pred)\n",
    "    ev2 = np.sqrt(np.sum((y_test-y_pred)**2))\n",
    "    return (ev1,ev2)\n",
    "\n",
    "def plot_yp(y_test,y_pred):\n",
    "    x = np.linspace(1,1000,len(y_pred))\n",
    "    plt.scatter(x,y_test,c='b',s=15)\n",
    "    plt.scatter(x,y_pred,c='g',s=20)\n",
    "    plt.show()\n"
   ]
  },
  {
   "cell_type": "code",
   "execution_count": 30,
   "metadata": {},
   "outputs": [],
   "source": [
    "y_data = data[\"MEDV\"].values\n",
    "x_data = data.drop(\"MEDV\",axis=1).values\n",
    "x_train,x_test,y_train,y_test = train_test_split(x_data,y_data,test_size=0.3,random_state=321)"
   ]
  },
  {
   "cell_type": "code",
   "execution_count": 31,
   "metadata": {},
   "outputs": [
    {
     "name": "stdout",
     "output_type": "stream",
     "text": [
      "(354, 13) (354,)\n"
     ]
    },
    {
     "data": {
      "text/plain": [
       "array([ 7.5 , 12.66,  9.96, 10.44, 15.46, 14.64,  8.68,  9.  ,  9.02,\n",
       "       12.22, 15.32, 20.68, 11.46, 10.8 , 11.94, 16.2 , 11.94, 18.7 ,\n",
       "       14.48, 15.04, 11.04, 12.68, 11.38, 18.18, 12.44, 17.18, 15.84,\n",
       "       14.06, 13.5 , 14.8 , 14.02, 14.7 , 20.92, 13.54, 19.4 , 19.3 ,\n",
       "       20.  , 21.18, 14.5 , 19.92, 15.04, 11.94, 13.12, 13.22, 16.66,\n",
       "       20.5 , 18.04, 14.82, 16.78, 20.64, 19.76, 19.74, 15.84, 20.92,\n",
       "       23.72, 18.94, 19.36, 20.7 , 16.7 , 24.72, 14.12, 12.84, 21.38,\n",
       "       15.3 , 17.92, 20.86, 21.36, 20.64, 19.88, 20.9 , 18.66, 20.42,\n",
       "       21.8 , 18.48, 20.64, 20.66, 19.62, 20.22, 20.76, 21.58, 21.62,\n",
       "       23.54, 27.1 , 20.6 , 20.74, 18.68, 22.42, 20.3 , 43.32, 23.02,\n",
       "       21.  , 23.26, 21.62, 25.48, 25.94, 25.04, 23.66, 24.32, 22.98,\n",
       "       14.06, 24.76, 25.52, 24.16, 28.64, 24.42, 21.28, 22.66, 21.34,\n",
       "       24.96, 19.72, 23.1 , 26.2 , 23.52, 23.62, 22.1 , 24.68, 27.74,\n",
       "       30.24, 23.18, 13.38, 28.62, 27.96, 21.7 , 27.38, 25.4 , 29.66,\n",
       "       28.24, 33.32, 30.32, 35.86, 30.54, 31.7 , 30.1 , 32.74, 34.82,\n",
       "       29.48, 33.1 , 30.9 , 30.78, 32.44, 35.56, 30.26, 46.3 , 31.12,\n",
       "       45.72, 38.76, 47.36, 48.62, 18.94, 45.82, 47.36, 49.7 ])"
      ]
     },
     "execution_count": 31,
     "metadata": {},
     "output_type": "execute_result"
    }
   ],
   "source": [
    "print(x_train.shape,y_train.shape)\n",
    "no_x_train,no_x_test = nomalization_feture2(x_train,x_test)\n",
    "feture_index = feture_choice(no_x_train,y_train)\n",
    "no_x_train = no_x_train[:,feture_index]\n",
    "no_x_test = no_x_test[:,feture_index]\n",
    "knr = KNeighborsRegressor(5)\n",
    "knr.fit(no_x_train,y_train)\n",
    "no_x_test,y_test = sort_y(pd.DataFrame(no_x_test),pd.DataFrame(y_test))\n",
    "y_pred = knr.predict(no_x_test)\n",
    "y_pred"
   ]
  },
  {
   "cell_type": "code",
   "execution_count": 32,
   "metadata": {},
   "outputs": [
    {
     "data": {
      "text/plain": [
       "(20.032642105263154, 55.18117070160799)"
      ]
     },
     "execution_count": 32,
     "metadata": {},
     "output_type": "execute_result"
    }
   ],
   "source": [
    "evaluate(y_test=y_test,y_pred=y_pred)"
   ]
  },
  {
   "cell_type": "code",
   "execution_count": 33,
   "metadata": {},
   "outputs": [
    {
     "data": {
      "image/png": "[encoded data removed]",
      "text/plain": [
       "<Figure size 432x288 with 1 Axes>"
      ]
     },
     "metadata": {
      "needs_background": "light"
     },
     "output_type": "display_data"
    }
   ],
   "source": [
    "plot_yp(y_test,y_pred)"
   ]
  },
  {
   "cell_type": "code",
   "execution_count": 34,
   "metadata": {},
   "outputs": [
    {
     "name": "stdout",
     "output_type": "stream",
     "text": [
      "5.0    7.5\n",
      "8.4    12.66\n",
      "8.7    9.96\n",
      "10.2    10.440000000000001\n",
      "10.2    15.460000000000003\n",
      "10.4    14.64\n",
      "10.5    8.680000000000001\n",
      "10.8    9.000000000000002\n",
      "11.3    9.02\n",
      "11.5    12.220000000000002\n",
      "11.7    15.319999999999999\n",
      "11.9    20.68\n",
      "11.9    11.459999999999999\n",
      "12.3    10.8\n",
      "12.5    11.940000000000001\n",
      "12.6    16.2\n",
      "13.0    11.940000000000001\n",
      "13.1    18.7\n",
      "13.3    14.479999999999999\n",
      "13.4    15.040000000000001\n",
      "13.4    11.040000000000001\n",
      "13.8    12.680000000000001\n",
      "13.8    11.379999999999999\n",
      "13.8    18.18\n",
      "14.0    12.440000000000001\n",
      "14.1    17.18\n",
      "14.3    15.84\n",
      "14.4    14.059999999999999\n",
      "14.5    13.5\n",
      "14.5    14.8\n",
      "14.9    14.020000000000001\n",
      "14.9    14.7\n",
      "15.3    20.919999999999998\n",
      "15.4    13.540000000000001\n",
      "15.6    19.4\n",
      "15.6    19.3\n",
      "16.1    20.0\n",
      "16.1    21.18\n",
      "16.2    14.5\n",
      "16.2    19.92\n",
      "16.5    15.040000000000001\n",
      "17.1    11.940000000000001\n",
      "17.2    13.120000000000001\n",
      "17.3    13.219999999999999\n",
      "17.4    16.66\n",
      "17.5    20.5\n",
      "17.7    18.04\n",
      "17.8    14.819999999999999\n",
      "17.8    16.78\n",
      "18.3    20.639999999999997\n",
      "18.3    19.76\n",
      "18.4    19.740000000000002\n",
      "18.4    15.84\n",
      "18.5    20.92\n",
      "18.5    23.720000000000002\n",
      "18.7    18.94\n",
      "18.7    19.36\n",
      "18.9    20.7\n",
      "18.9    16.7\n",
      "19.0    24.72\n",
      "19.1    14.12\n",
      "19.1    12.84\n",
      "19.4    21.380000000000003\n",
      "19.5    15.3\n",
      "19.6    17.92\n",
      "19.6    20.860000000000003\n",
      "19.7    21.360000000000003\n",
      "19.8    20.639999999999997\n",
      "19.9    19.880000000000003\n",
      "20.1    20.9\n",
      "20.1    18.66\n",
      "20.3    20.42\n",
      "20.4    21.8\n",
      "20.4    18.48\n",
      "20.4    20.639999999999997\n",
      "20.6    20.66\n",
      "20.6    19.619999999999997\n",
      "20.8    20.22\n",
      "20.9    20.759999999999998\n",
      "20.9    21.58\n",
      "21.0    21.619999999999997\n",
      "21.2    23.54\n",
      "21.2    27.1\n",
      "21.4    20.6\n",
      "21.7    20.740000000000002\n",
      "21.7    18.68\n",
      "21.7    22.419999999999998\n",
      "21.8    20.3\n",
      "21.9    43.32000000000001\n",
      "22.0    23.02\n",
      "22.0    20.999999999999996\n",
      "22.0    23.259999999999998\n",
      "22.4    21.619999999999997\n",
      "22.6    25.48\n",
      "23.1    25.939999999999998\n",
      "23.3    25.04\n",
      "23.3    23.660000000000004\n",
      "23.5    24.32\n",
      "23.6    22.979999999999997\n",
      "23.7    14.060000000000002\n",
      "23.7    24.759999999999998\n",
      "23.9    25.52\n",
      "23.9    24.159999999999997\n",
      "24.1    28.639999999999997\n",
      "24.1    24.419999999999998\n",
      "24.3    21.279999999999998\n",
      "24.3    22.66\n",
      "24.4    21.339999999999996\n",
      "24.4    24.959999999999997\n",
      "24.5    19.720000000000002\n",
      "24.6    23.1\n",
      "25.1    26.2\n",
      "25.2    23.520000000000003\n",
      "25.3    23.620000000000005\n",
      "26.4    22.1\n",
      "26.5    24.68\n",
      "26.6    27.74\n",
      "26.6    30.240000000000002\n",
      "27.1    23.18\n",
      "27.5    13.38\n",
      "27.5    28.619999999999997\n",
      "28.2    27.959999999999997\n",
      "28.7    21.7\n",
      "29.1    27.380000000000003\n",
      "29.4    25.4\n",
      "29.6    29.659999999999997\n",
      "29.8    28.24\n",
      "31.5    33.32\n",
      "31.5    30.32\n",
      "31.6    35.86\n",
      "32.0    30.54\n",
      "32.0    31.7\n",
      "32.4    30.1\n",
      "33.2    32.739999999999995\n",
      "33.3    34.82000000000001\n",
      "33.4    29.48\n",
      "33.4    33.1\n",
      "34.9    30.9\n",
      "36.1    30.78000000000001\n",
      "36.2    32.44\n",
      "36.5    35.559999999999995\n",
      "37.2    30.26\n",
      "37.6    46.3\n",
      "37.9    31.120000000000005\n",
      "38.7    45.71999999999999\n",
      "43.5    38.76\n",
      "45.4    47.36\n",
      "48.8    48.62\n",
      "50.0    18.94\n",
      "50.0    45.82\n",
      "50.0    47.36\n",
      "50.0    49.7\n"
     ]
    }
   ],
   "source": [
    "for i,y in enumerate(y_test):\n",
    "    print(y,\"  \",y_pred[i])"
   ]
  },
  {
   "cell_type": "code",
   "execution_count": 35,
   "metadata": {},
   "outputs": [
    {
     "name": "stdout",
     "output_type": "stream",
     "text": [
      "22.29407894736842 22.094868421052627\n"
     ]
    }
   ],
   "source": [
    "print(y_test.mean(),y_pred.mean())"
   ]
  },
  {
   "cell_type": "code",
   "execution_count": 36,
   "metadata": {},
   "outputs": [
    {
     "data": {
      "text/plain": [
       "GridSearchCV(cv=None, error_score='raise',\n",
       "       estimator=KNeighborsRegressor(algorithm='auto', leaf_size=30, metric='minkowski',\n",
       "          metric_params=None, n_jobs=1, n_neighbors=5, p=2,\n",
       "          weights='uniform'),\n",
       "       fit_params=None, iid=True, n_jobs=1,\n",
       "       param_grid=[{'weights': ['uniform'], 'n_neighbors': [1, 2, 3, 4, 5, 6, 7, 8, 9, 10]}, {'weights': ['distance'], 'p': [1, 2, 3, 4, 5, 6, 7, 8, 9, 10], 'n_neighbors': [1, 2, 3, 4, 5, 6, 7, 8, 9, 10]}],\n",
       "       pre_dispatch='2*n_jobs', refit=True, return_train_score='warn',\n",
       "       scoring=None, verbose=0)"
      ]
     },
     "execution_count": 36,
     "metadata": {},
     "output_type": "execute_result"
    }
   ],
   "source": [
    "from sklearn.model_selection import GridSearchCV\n",
    "param_grid=[\n",
    "    {\n",
    "        'weights':['uniform'],\n",
    "        'n_neighbors':[k for k in range(1,11)]\n",
    "    },\n",
    "    {\n",
    "        'weights':['distance'],\n",
    "        'n_neighbors':[k for k in range(1,11)],\n",
    "        'p':[p for p in range(1,11)]\n",
    "    }\n",
    "]\n",
    "\n",
    "knr_gs = KNeighborsRegressor()\n",
    "grid_search = GridSearchCV(knr_gs,param_grid=param_grid)\n",
    "grid_search.fit(no_x_train,y_train)"
   ]
  },
  {
   "cell_type": "code",
   "execution_count": 37,
   "metadata": {},
   "outputs": [],
   "source": [
    "knr_gs= grid_search.best_estimator_"
   ]
  },
  {
   "cell_type": "code",
   "execution_count": 38,
   "metadata": {},
   "outputs": [
    {
     "data": {
      "text/plain": [
       "{'n_neighbors': 6, 'p': 1, 'weights': 'distance'}"
      ]
     },
     "execution_count": 38,
     "metadata": {},
     "output_type": "execute_result"
    }
   ],
   "source": [
    "grid_search.best_params_"
   ]
  },
  {
   "cell_type": "code",
   "execution_count": 39,
   "metadata": {},
   "outputs": [],
   "source": [
    "g_y_pred = knr_gs.predict(no_x_test)"
   ]
  },
  {
   "cell_type": "code",
   "execution_count": 40,
   "metadata": {},
   "outputs": [
    {
     "data": {
      "text/plain": [
       "(19.778452397586687, 54.82996228735869)"
      ]
     },
     "execution_count": 40,
     "metadata": {},
     "output_type": "execute_result"
    }
   ],
   "source": [
    "evaluate(g_y_pred,y_test)"
   ]
  },
  {
   "cell_type": "code",
   "execution_count": 41,
   "metadata": {},
   "outputs": [
    {
     "data": {
      "image/png": "[encoded data removed]",
      "text/plain": [
       "<Figure size 432x288 with 1 Axes>"
      ]
     },
     "metadata": {
      "needs_background": "light"
     },
     "output_type": "display_data"
    }
   ],
   "source": [
    "plot_yp(y_test,g_y_pred)"
   ]
  },
  {
   "cell_type": "code",
   "execution_count": 42,
   "metadata": {},
   "outputs": [
    {
     "name": "stdout",
     "output_type": "stream",
     "text": [
      "22.29407894736842 22.138845191243576\n"
     ]
    }
   ],
   "source": [
    "print(y_test.mean(),g_y_pred.mean())"
   ]
  },
  {
   "cell_type": "code",
   "execution_count": 43,
   "metadata": {},
   "outputs": [
    {
     "data": {
      "text/html": [
       "<div>\n",
       "<style scoped>\n",
       "    .dataframe tbody tr th:only-of-type {\n",
       "        vertical-align: middle;\n",
       "    }\n",
       "\n",
       "    .dataframe tbody tr th {\n",
       "        vertical-align: top;\n",
       "    }\n",
       "\n",
       "    .dataframe thead th {\n",
       "        text-align: right;\n",
       "    }\n",
       "</style>\n",
       "<table border=\"1\" class=\"dataframe\">\n",
       "  <thead>\n",
       "    <tr style=\"text-align: right;\">\n",
       "      <th></th>\n",
       "      <th>CRIM</th>\n",
       "      <th>ZN</th>\n",
       "      <th>INDUS</th>\n",
       "      <th>CHAS</th>\n",
       "      <th>NOX</th>\n",
       "      <th>RM</th>\n",
       "      <th>AGE</th>\n",
       "      <th>DIS</th>\n",
       "      <th>RAD</th>\n",
       "      <th>TAX</th>\n",
       "      <th>PTRATIO</th>\n",
       "      <th>B</th>\n",
       "      <th>LSTAT</th>\n",
       "      <th>MEDV</th>\n",
       "    </tr>\n",
       "  </thead>\n",
       "  <tbody>\n",
       "    <tr>\n",
       "      <th>0</th>\n",
       "      <td>0.00632</td>\n",
       "      <td>18.0</td>\n",
       "      <td>2.31</td>\n",
       "      <td>0</td>\n",
       "      <td>0.538</td>\n",
       "      <td>6.575</td>\n",
       "      <td>65.2</td>\n",
       "      <td>4.0900</td>\n",
       "      <td>1</td>\n",
       "      <td>296.0</td>\n",
       "      <td>15.3</td>\n",
       "      <td>396.90</td>\n",
       "      <td>4.98</td>\n",
       "      <td>24.0</td>\n",
       "    </tr>\n",
       "    <tr>\n",
       "      <th>1</th>\n",
       "      <td>0.02731</td>\n",
       "      <td>0.0</td>\n",
       "      <td>7.07</td>\n",
       "      <td>0</td>\n",
       "      <td>0.469</td>\n",
       "      <td>6.421</td>\n",
       "      <td>78.9</td>\n",
       "      <td>4.9671</td>\n",
       "      <td>2</td>\n",
       "      <td>242.0</td>\n",
       "      <td>17.8</td>\n",
       "      <td>396.90</td>\n",
       "      <td>9.14</td>\n",
       "      <td>21.6</td>\n",
       "    </tr>\n",
       "    <tr>\n",
       "      <th>2</th>\n",
       "      <td>0.02729</td>\n",
       "      <td>0.0</td>\n",
       "      <td>7.07</td>\n",
       "      <td>0</td>\n",
       "      <td>0.469</td>\n",
       "      <td>7.185</td>\n",
       "      <td>61.1</td>\n",
       "      <td>4.9671</td>\n",
       "      <td>2</td>\n",
       "      <td>242.0</td>\n",
       "      <td>17.8</td>\n",
       "      <td>392.83</td>\n",
       "      <td>4.03</td>\n",
       "      <td>34.7</td>\n",
       "    </tr>\n",
       "    <tr>\n",
       "      <th>3</th>\n",
       "      <td>0.03237</td>\n",
       "      <td>0.0</td>\n",
       "      <td>2.18</td>\n",
       "      <td>0</td>\n",
       "      <td>0.458</td>\n",
       "      <td>6.998</td>\n",
       "      <td>45.8</td>\n",
       "      <td>6.0622</td>\n",
       "      <td>3</td>\n",
       "      <td>222.0</td>\n",
       "      <td>18.7</td>\n",
       "      <td>394.63</td>\n",
       "      <td>2.94</td>\n",
       "      <td>33.4</td>\n",
       "    </tr>\n",
       "    <tr>\n",
       "      <th>4</th>\n",
       "      <td>0.06905</td>\n",
       "      <td>0.0</td>\n",
       "      <td>2.18</td>\n",
       "      <td>0</td>\n",
       "      <td>0.458</td>\n",
       "      <td>7.147</td>\n",
       "      <td>54.2</td>\n",
       "      <td>6.0622</td>\n",
       "      <td>3</td>\n",
       "      <td>222.0</td>\n",
       "      <td>18.7</td>\n",
       "      <td>396.90</td>\n",
       "      <td>5.33</td>\n",
       "      <td>36.2</td>\n",
       "    </tr>\n",
       "  </tbody>\n",
       "</table>\n",
       "</div>"
      ],
      "text/plain": [
       "      CRIM    ZN  INDUS  CHAS    NOX     RM   AGE     DIS  RAD    TAX  \\\n",
       "0  0.00632  18.0   2.31     0  0.538  6.575  65.2  4.0900    1  296.0   \n",
       "1  0.02731   0.0   7.07     0  0.469  6.421  78.9  4.9671    2  242.0   \n",
       "2  0.02729   0.0   7.07     0  0.469  7.185  61.1  4.9671    2  242.0   \n",
       "3  0.03237   0.0   2.18     0  0.458  6.998  45.8  6.0622    3  222.0   \n",
       "4  0.06905   0.0   2.18     0  0.458  7.147  54.2  6.0622    3  222.0   \n",
       "\n",
       "   PTRATIO       B  LSTAT  MEDV  \n",
       "0     15.3  396.90   4.98  24.0  \n",
       "1     17.8  396.90   9.14  21.6  \n",
       "2     17.8  392.83   4.03  34.7  \n",
       "3     18.7  394.63   2.94  33.4  \n",
       "4     18.7  396.90   5.33  36.2  "
      ]
     },
     "execution_count": 43,
     "metadata": {},
     "output_type": "execute_result"
    }
   ],
   "source": [
    "data.head()"
   ]
  },
  {
   "cell_type": "code",
   "execution_count": 48,
   "metadata": {},
   "outputs": [
    {
     "data": {
      "text/plain": [
       "0.5380    23\n",
       "0.7130    18\n",
       "0.4370    17\n",
       "0.8710    16\n",
       "0.4890    15\n",
       "0.6240    15\n",
       "0.6930    14\n",
       "0.6050    14\n",
       "0.7400    13\n",
       "0.5440    12\n",
       "0.7000    11\n",
       "0.5200    11\n",
       "0.6470    10\n",
       "0.5070    10\n",
       "0.4310    10\n",
       "0.4480     9\n",
       "0.5470     9\n",
       "0.4880     8\n",
       "0.4640     8\n",
       "0.4930     8\n",
       "0.7700     8\n",
       "0.4280     8\n",
       "0.5040     8\n",
       "0.5850     8\n",
       "0.5840     8\n",
       "0.5150     8\n",
       "0.6790     8\n",
       "0.5240     7\n",
       "0.5810     7\n",
       "0.6140     7\n",
       "          ..\n",
       "0.4429     4\n",
       "0.4000     4\n",
       "0.4050     3\n",
       "0.4100     3\n",
       "0.6550     3\n",
       "0.4090     3\n",
       "0.4290     3\n",
       "0.4580     3\n",
       "0.4330     3\n",
       "0.4040     3\n",
       "0.6680     3\n",
       "0.4161     3\n",
       "0.4010     3\n",
       "0.4030     3\n",
       "0.4600     3\n",
       "0.4420     3\n",
       "0.5750     2\n",
       "0.3980     2\n",
       "0.4690     2\n",
       "0.4840     2\n",
       "0.3920     2\n",
       "0.4150     2\n",
       "0.6590     2\n",
       "0.4379     2\n",
       "0.4350     1\n",
       "0.3850     1\n",
       "0.3940     1\n",
       "0.5180     1\n",
       "0.4220     1\n",
       "0.3890     1\n",
       "Name: NOX, Length: 81, dtype: int64"
      ]
     },
     "execution_count": 48,
     "metadata": {},
     "output_type": "execute_result"
    }
   ],
   "source": [
    "data[\"NOX\"].value_counts()"
   ]
  },
  {
   "cell_type": "code",
   "execution_count": null,
   "metadata": {},
   "outputs": [],
   "source": []
  },
  {
   "cell_type": "code",
   "execution_count": null,
   "metadata": {},
   "outputs": [],
   "source": []
  },
  {
   "cell_type": "code",
   "execution_count": null,
   "metadata": {},
   "outputs": [],
   "source": []
  }
 ],
 "metadata": {
  "kernelspec": {
   "display_name": "Python 3",
   "language": "python",
   "name": "python3"
  },
  "language_info": {
   "codemirror_mode": {
    "name": "ipython",
    "version": 3
   },
   "file_extension": ".py",
   "mimetype": "text/x-python",
   "name": "python",
   "nbconvert_exporter": "python",
   "pygments_lexer": "ipython3",
   "version": "3.5.4"
  }
 },
 "nbformat": 4,
 "nbformat_minor": 4
}
