{
 "cells": [
  {
   "cell_type": "code",
   "execution_count": 1,
   "metadata": {},
   "outputs": [],
   "source": [
    "from sklearn.model_selection import train_test_split,cross_val_score\n",
    "from sklearn.neighbors import KNeighborsClassifier\n",
    "import numpy as np\n",
    "import os"
   ]
  },
  {
   "cell_type": "markdown",
   "metadata": {},
   "source": [
    "##导入数据\n"
   ]
  },
  {
   "cell_type": "code",
   "execution_count": 2,
   "metadata": {},
   "outputs": [],
   "source": [
    "def input_data(path):\n",
    "    x_data = []\n",
    "    y_data = []\n",
    "    filenames = os.listdir(path)\n",
    "    for filename in filenames:\n",
    "        y_data.append(int(filename.strip().split(\"_\")[0]))\n",
    "        with open(os.path.join(path,filename),\"r\",encoding='utf-8') as f:\n",
    "            x_data.append([int(num) for line in f.readlines() for num in line.strip()])\n",
    "#     print(len(x_data),len(x_data[0]))\n",
    "    return (x_data,y_data)\n"
   ]
  },
  {
   "cell_type": "code",
   "execution_count": 3,
   "metadata": {},
   "outputs": [],
   "source": [
    "x_train,y_train = input_data(\"./handwritingClass/trainingDigits\")\n",
    "x_test,y_test = input_data(\"./handwritingClass/testDigits\")"
   ]
  },
  {
   "cell_type": "code",
   "execution_count": 4,
   "metadata": {},
   "outputs": [
    {
     "data": {
      "text/plain": [
       "KNeighborsClassifier(algorithm='auto', leaf_size=30, metric='minkowski',\n",
       "           metric_params=None, n_jobs=1, n_neighbors=5, p=2,\n",
       "           weights='uniform')"
      ]
     },
     "execution_count": 4,
     "metadata": {},
     "output_type": "execute_result"
    }
   ],
   "source": [
    "clf = KNeighborsClassifier(n_neighbors=5)\n",
    "clf.fit(x_train,y_train)"
   ]
  },
  {
   "cell_type": "code",
   "execution_count": 5,
   "metadata": {},
   "outputs": [],
   "source": [
    "predt = clf.predict(x_test)"
   ]
  },
  {
   "cell_type": "code",
   "execution_count": 6,
   "metadata": {},
   "outputs": [
    {
     "data": {
      "text/plain": [
       "0.9809725158562368"
      ]
     },
     "execution_count": 6,
     "metadata": {},
     "output_type": "execute_result"
    }
   ],
   "source": [
    "np.sum(predt==y_test)/len(y_test)"
   ]
  },
  {
   "cell_type": "code",
   "execution_count": 7,
   "metadata": {},
   "outputs": [
    {
     "name": "stdout",
     "output_type": "stream",
     "text": [
      "[[0.43839483 0.97441054 0.27685393 0.1002106 ]\n",
      " [0.74241118 0.67208512 0.07222851 0.08449303]\n",
      " [0.81780309 0.11522081 0.23384057 0.70762925]]\n",
      "[[0.24559305 0.27126462 0.44500183 0.60843778]\n",
      " [0.79984903 0.0973458  0.04437278 0.53447931]\n",
      " [0.42904006 0.2891828  0.69689861 0.76752587]\n",
      " [0.41242572 0.64477282 0.91567987 0.80960834]\n",
      " [0.31396021 0.3747683  0.74349507 0.12757225]]\n",
      "[[0.43839483 0.97441054 0.27685393 0.1002106 ]\n",
      " [0.74241118 0.67208512 0.07222851 0.08449303]\n",
      " [0.81780309 0.11522081 0.23384057 0.70762925]\n",
      " [0.24559305 0.27126462 0.44500183 0.60843778]\n",
      " [0.79984903 0.0973458  0.04437278 0.53447931]\n",
      " [0.42904006 0.2891828  0.69689861 0.76752587]\n",
      " [0.41242572 0.64477282 0.91567987 0.80960834]\n",
      " [0.31396021 0.3747683  0.74349507 0.12757225]]\n"
     ]
    }
   ],
   "source": [
    "a = np.random.rand(3,4)\n",
    "b = np.random.rand(5,4)\n",
    "print(a)\n",
    "print(b)\n",
    "print(np.append(a,b).reshape(-1,4))"
   ]
  },
  {
   "cell_type": "code",
   "execution_count": 8,
   "metadata": {},
   "outputs": [],
   "source": [
    "x_data = np.append(x_train,x_test).reshape(-1,1024).astype(np.int32)\n",
    "y_data = np.append(y_train,y_test)"
   ]
  },
  {
   "cell_type": "code",
   "execution_count": 29,
   "metadata": {},
   "outputs": [
    {
     "name": "stdout",
     "output_type": "stream",
     "text": [
      "第2次已完成\n",
      "第3次已完成\n",
      "第4次已完成\n",
      "第5次已完成\n",
      "第6次已完成\n",
      "第7次已完成\n",
      "第8次已完成\n",
      "第9次已完成\n",
      "第10次已完成\n",
      "第11次已完成\n",
      "第12次已完成\n",
      "第13次已完成\n",
      "第14次已完成\n",
      "第15次已完成\n",
      "第16次已完成\n",
      "第17次已完成\n",
      "第18次已完成\n",
      "第19次已完成\n",
      "第20次已完成\n",
      "第21次已完成\n"
     ]
    }
   ],
   "source": [
    "krange = range(1,21)\n",
    "error = []\n",
    "for i in krange:\n",
    "    knn = KNeighborsClassifier(n_neighbors=i)\n",
    "    score = cross_val_score(knn,x_data,y_data,cv=10,scoring='accuracy')\n",
    "    error.append(1-score.mean())\n",
    "    print(\"第%s次已完成\"%(i+1))\n"
   ]
  },
  {
   "cell_type": "code",
   "execution_count": 32,
   "metadata": {},
   "outputs": [
    {
     "data": {
      "image/png": "[encoded data removed]",
      "text/plain": [
       "<Figure size 432x288 with 1 Axes>"
      ]
     },
     "metadata": {
      "needs_background": "light"
     },
     "output_type": "display_data"
    },
    {
     "name": "stdout",
     "output_type": "stream",
     "text": [
      "[0.021817469836995174, 0.03120631430410037, 0.02250702530996307, 0.024945042313429644, 0.025628561970725272, 0.026671648606720444, 0.025300759459028432, 0.026692302500714304, 0.02705993601728396, 0.028104139677552764, 0.02774238007886487, 0.02843805118976095, 0.027736438126482077, 0.029123167374161207, 0.028435765507743627, 0.029145907867813015, 0.03087149589291882, 0.03227130974218184, 0.03295139180362683, 0.03293564484992062]\n"
     ]
    }
   ],
   "source": [
    "import matplotlib.pyplot as plt\n",
    "plt.plot(krange,error)\n",
    "plt.show()\n",
    "print(error)"
   ]
  },
  {
   "cell_type": "code",
   "execution_count": 33,
   "metadata": {},
   "outputs": [
    {
     "data": {
      "text/plain": [
       "KNeighborsClassifier(algorithm='auto', leaf_size=30, metric='minkowski',\n",
       "           metric_params=None, n_jobs=1, n_neighbors=3, p=2,\n",
       "           weights='uniform')"
      ]
     },
     "execution_count": 33,
     "metadata": {},
     "output_type": "execute_result"
    }
   ],
   "source": [
    "knn = KNeighborsClassifier(3)\n",
    "knn.fit(x_train,y_train)\n"
   ]
  },
  {
   "cell_type": "code",
   "execution_count": 34,
   "metadata": {},
   "outputs": [],
   "source": [
    "pred = knn.predict(x_test)"
   ]
  },
  {
   "cell_type": "code",
   "execution_count": 35,
   "metadata": {},
   "outputs": [
    {
     "data": {
      "text/plain": [
       "0.9873150105708245"
      ]
     },
     "execution_count": 35,
     "metadata": {},
     "output_type": "execute_result"
    }
   ],
   "source": [
    "np.sum(pred==y_test)/len(y_test)"
   ]
  },
  {
   "cell_type": "code",
   "execution_count": null,
   "metadata": {},
   "outputs": [],
   "source": []
  },
  {
   "cell_type": "code",
   "execution_count": null,
   "metadata": {},
   "outputs": [],
   "source": []
  }
 ],
 "metadata": {
  "kernelspec": {
   "display_name": "Python 3",
   "language": "python",
   "name": "python3"
  },
  "language_info": {
   "codemirror_mode": {
    "name": "ipython",
    "version": 3
   },
   "file_extension": ".py",
   "mimetype": "text/x-python",
   "name": "python",
   "nbconvert_exporter": "python",
   "pygments_lexer": "ipython3",
   "version": "3.5.4"
  }
 },
 "nbformat": 4,
 "nbformat_minor": 4
}
