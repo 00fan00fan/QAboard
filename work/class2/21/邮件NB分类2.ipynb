{
 "cells": [
  {
   "cell_type": "code",
   "execution_count": 1,
   "metadata": {},
   "outputs": [],
   "source": [
    "import pandas as pd\n",
    "import numpy as np\n",
    "from sklearn.model_selection import train_test_split\n",
    "import jieba"
   ]
  },
  {
   "cell_type": "code",
   "execution_count": 2,
   "metadata": {},
   "outputs": [
    {
     "data": {
      "text/html": [
       "<div>\n",
       "<style scoped>\n",
       "    .dataframe tbody tr th:only-of-type {\n",
       "        vertical-align: middle;\n",
       "    }\n",
       "\n",
       "    .dataframe tbody tr th {\n",
       "        vertical-align: top;\n",
       "    }\n",
       "\n",
       "    .dataframe thead th {\n",
       "        text-align: right;\n",
       "    }\n",
       "</style>\n",
       "<table border=\"1\" class=\"dataframe\">\n",
       "  <thead>\n",
       "    <tr style=\"text-align: right;\">\n",
       "      <th></th>\n",
       "      <th>type</th>\n",
       "      <th>text</th>\n",
       "      <th>Unnamed: 2</th>\n",
       "      <th>Unnamed: 3</th>\n",
       "    </tr>\n",
       "  </thead>\n",
       "  <tbody>\n",
       "    <tr>\n",
       "      <th>0</th>\n",
       "      <td>ham</td>\n",
       "      <td>1506讲的是孔子后人的故事。一个老领导回到家乡，跟儿子感情不和，跟贪财的孙子孔为本和睦。老...</td>\n",
       "      <td>NaN</td>\n",
       "      <td>NaN</td>\n",
       "    </tr>\n",
       "    <tr>\n",
       "      <th>1</th>\n",
       "      <td>ham</td>\n",
       "      <td>那他为什么不愿意起诉，既然这样了！起诉后也有充分的理由！MM莫不是还生活在电影中，个人认为这...</td>\n",
       "      <td>NaN</td>\n",
       "      <td>NaN</td>\n",
       "    </tr>\n",
       "    <tr>\n",
       "      <th>2</th>\n",
       "      <td>ham</td>\n",
       "      <td>我觉得，负债不要紧，最重要的是能负得起这个责任来，\\n欠了那么多钱，至少对当初拿出爱心来的网...</td>\n",
       "      <td>NaN</td>\n",
       "      <td>NaN</td>\n",
       "    </tr>\n",
       "    <tr>\n",
       "      <th>3</th>\n",
       "      <td>ham</td>\n",
       "      <td>公司现在有内部推荐机会,2-3人主要从事视频编解码器在pc/dsp/arm上的优化工作.(h...</td>\n",
       "      <td>NaN</td>\n",
       "      <td>NaN</td>\n",
       "    </tr>\n",
       "    <tr>\n",
       "      <th>4</th>\n",
       "      <td>ham</td>\n",
       "      <td>鼓励一下！\\n还是让姐姐们给你解答更好吧。\\n     赫赫，很少有女生追男生的例子。不过还...</td>\n",
       "      <td>NaN</td>\n",
       "      <td>NaN</td>\n",
       "    </tr>\n",
       "  </tbody>\n",
       "</table>\n",
       "</div>"
      ],
      "text/plain": [
       "  type                                               text  Unnamed: 2  \\\n",
       "0  ham  1506讲的是孔子后人的故事。一个老领导回到家乡，跟儿子感情不和，跟贪财的孙子孔为本和睦。老...         NaN   \n",
       "1  ham  那他为什么不愿意起诉，既然这样了！起诉后也有充分的理由！MM莫不是还生活在电影中，个人认为这...         NaN   \n",
       "2  ham  我觉得，负债不要紧，最重要的是能负得起这个责任来，\\n欠了那么多钱，至少对当初拿出爱心来的网...         NaN   \n",
       "3  ham  公司现在有内部推荐机会,2-3人主要从事视频编解码器在pc/dsp/arm上的优化工作.(h...         NaN   \n",
       "4  ham  鼓励一下！\\n还是让姐姐们给你解答更好吧。\\n     赫赫，很少有女生追男生的例子。不过还...         NaN   \n",
       "\n",
       "   Unnamed: 3  \n",
       "0         NaN  \n",
       "1         NaN  \n",
       "2         NaN  \n",
       "3         NaN  \n",
       "4         NaN  "
      ]
     },
     "execution_count": 2,
     "metadata": {},
     "output_type": "execute_result"
    }
   ],
   "source": [
    "data = pd.read_csv(\"./chinesespam.csv\",encoding='utf-8')\n",
    "data.head()"
   ]
  },
  {
   "cell_type": "code",
   "execution_count": 3,
   "metadata": {},
   "outputs": [
    {
     "name": "stderr",
     "output_type": "stream",
     "text": [
      "Building prefix dict from the default dictionary ...\n",
      "Loading model from cache C:\\Users\\LYPC\\AppData\\Local\\Temp\\jieba.cache\n",
      "Loading model cost 2.066 seconds.\n",
      "Prefix dict has been built succesfully.\n"
     ]
    }
   ],
   "source": [
    "#停用词\n",
    "stopword = []\n",
    "with open(\"./stopword.txt\",\"r\",encoding=\"utf-8\") as f:\n",
    "    for line in f.readlines():\n",
    "        stopword.append(line.strip())\n",
    "\n",
    "y_label = np.where(data[\"type\"]==\"ham\",1,0)\n",
    "x_data = data[\"text\"].apply(lambda x:\" \".join([word for word in jieba.cut(x.strip().replace(\"\\n\",\"\")) if word not in stopword]))\n",
    "x_data = x_data.values"
   ]
  },
  {
   "cell_type": "code",
   "execution_count": 4,
   "metadata": {},
   "outputs": [
    {
     "name": "stdout",
     "output_type": "stream",
     "text": [
      "起诉 起诉 理由 MM 莫不是 生活 电影 中 结婚 感情 感情 何来 感情 传统 家庭 责任感 结婚 lp 家庭 责任感 强 自相矛盾 发了 帖子 急 事儿 走 回头一看 gj 回 帖子 感动 谢谢您 大部分 帖子 说 第三者 GG 厚道 说 自作自受 不想 辩论 中 帖子 里 说 明白 理解   GG 回去 在场 GG lp 打电话 谈 财产 事 旁边 想 如果说 GG 骗 两边 摆弄 房子 家电 第二次 说 5w 现金 说 30w 说 明知 GG lp 谈 有意 做 第三者 想 请 想想 GG 稍稍 长个 心眼 婚前 同居 结婚 结婚 感情 传统 家庭 责任感 父母 崔 先 结婚 并不认为 GG 感情 随便\n",
      "====================\n",
      "负债 不要紧 负得起 责任 欠 多钱 至少 当初 拿出 爱心 网友 交待 心 实在 能力 一声 ID 激活 手机号 换 外地 北京 网友 找 不到 水木 fl 版 那阵 旁观 全过程 感觉 长大 孩子 社会 苦 现实 家里 反对 孩子 经济 收入 进 男孩子 人倒 真诚 事情 想 可惜 孩子 足够 经济 能力 养活 孩子 他生 时 不负责任 表现\n"
     ]
    }
   ],
   "source": [
    "print(x_data[1])\n",
    "print(\"=\"*20)\n",
    "print(x_data[2])"
   ]
  },
  {
   "cell_type": "code",
   "execution_count": 5,
   "metadata": {},
   "outputs": [],
   "source": [
    "#生成词汇表\n",
    "voc_word = {}\n",
    "for sentence in x_data:\n",
    "    for word in sentence.split(\" \"):\n",
    "        if word not in voc_word:\n",
    "            voc_word[word] = len(voc_word)"
   ]
  },
  {
   "cell_type": "code",
   "execution_count": 6,
   "metadata": {},
   "outputs": [
    {
     "data": {
      "text/plain": [
       "7566"
      ]
     },
     "execution_count": 6,
     "metadata": {},
     "output_type": "execute_result"
    }
   ],
   "source": [
    "len(voc_word)"
   ]
  },
  {
   "cell_type": "code",
   "execution_count": 7,
   "metadata": {},
   "outputs": [
    {
     "data": {
      "text/plain": [
       "150"
      ]
     },
     "execution_count": 7,
     "metadata": {},
     "output_type": "execute_result"
    }
   ],
   "source": [
    "#word2vec\n",
    "x_datavec = []\n",
    "for sentence in x_data:\n",
    "    sentence_arr = [0]*len(voc_word)\n",
    "    for word in sentence.split(\" \"):\n",
    "        sentence_arr[voc_word[word]] = 1\n",
    "    x_datavec.append(sentence_arr)\n",
    "len(x_datavec)"
   ]
  },
  {
   "cell_type": "code",
   "execution_count": 8,
   "metadata": {},
   "outputs": [
    {
     "data": {
      "text/plain": [
       "False"
      ]
     },
     "execution_count": 8,
     "metadata": {},
     "output_type": "execute_result"
    }
   ],
   "source": [
    "x_datavec[0]==x_datavec[1]"
   ]
  },
  {
   "cell_type": "code",
   "execution_count": 9,
   "metadata": {},
   "outputs": [
    {
     "name": "stdout",
     "output_type": "stream",
     "text": [
      "[2. 2. 2. ... 1. 1. 1.]\n",
      "[1. 2. 1. ... 2. 2. 2.]\n",
      "6395\n",
      "7585\n",
      "[-8.07012453 -8.07012453 -8.07012453 ... -8.76327171 -8.76327171\n",
      " -8.76327171]\n",
      "[-8.93392789 -8.24078071 -8.93392789 ... -8.24078071 -8.24078071\n",
      " -8.24078071]\n",
      "0.6666666666666666\n"
     ]
    }
   ],
   "source": [
    "#训练nb\n",
    "y = np.sum(y_label)*1.0/len(y_label)\n",
    "p1num = np.ones(len(voc_word))\n",
    "p0num = np.ones(len(voc_word))\n",
    "#p1dem = 2\n",
    "#p0dem = 2\n",
    "\n",
    "p1dem = 2\n",
    "p0dem = 2\n",
    "\n",
    "for i in range(len(x_datavec)):\n",
    "    data = x_datavec[i]\n",
    "    if y_label[i] == 1:\n",
    "        p1num += data\n",
    "        p1dem += sum(data)\n",
    "    else:\n",
    "        p0num += data\n",
    "        p0dem += sum(data)\n",
    "print(p1num)\n",
    "print(p0num)\n",
    "print(p1dem)\n",
    "print(p0dem)\n",
    "p1vec = np.log(p1num*1.0/p1dem)\n",
    "p0vec = np.log(p0num*1.0/p0dem)\n",
    "print(p1vec)\n",
    "print(p0vec)\n",
    "print(y)"
   ]
  },
  {
   "cell_type": "code",
   "execution_count": 10,
   "metadata": {},
   "outputs": [
    {
     "name": "stdout",
     "output_type": "stream",
     "text": [
      "-476.38945484647894 -421.41769717672156 1 1\n",
      "-601.0090127170578 -520.747693426256 1 1\n",
      "-450.0759995246844 -391.36770040046036 1 1\n",
      "-402.0959716385184 -368.21631010067665 1 1\n",
      "-391.6053786083705 -333.39030695362635 1 1\n",
      "-605.9575060885219 -491.947881556165 1 1\n",
      "-294.4740026804557 -255.88863675890656 1 1\n",
      "-298.58966717078954 -257.8699047373357 1 1\n",
      "-384.6366587488573 -341.19682765893435 1 1\n",
      "-304.1010777527983 -261.6447475035419 1 1\n",
      "-328.54818474837356 -279.6159686359791 1 1\n",
      "-418.7122417956892 -376.32382385225293 1 1\n",
      "-233.02269720664688 -198.85749219964325 1 1\n",
      "-921.2441224601134 -822.315790226968 1 1\n",
      "-309.68705277743754 -250.75420785509428 1 1\n",
      "-366.70311151641414 -306.31695099567855 1 1\n",
      "-452.94150182822295 -391.894898163266 1 1\n",
      "-279.71878567709933 -247.58900086326992 1 1\n",
      "-3863.162272081161 -3433.9005424315988 1 1\n",
      "-279.5089655891457 -237.6234036339813 1 1\n",
      "-539.5488098351353 -478.6748314108695 1 1\n",
      "-431.9586828814876 -377.0169496373194 1 1\n",
      "-375.65951226404883 -325.56074320745745 1 1\n",
      "-848.6665428068012 -729.7926855517572 1 1\n",
      "-388.90417935612334 -345.7972880567168 1 1\n",
      "-449.4335204913038 -375.96723016345453 1 1\n",
      "-337.49783658276385 -267.7572437901295 1 1\n",
      "-353.1864862944955 -303.1425429783965 1 1\n",
      "-288.38165638239985 -249.24175147503405 1 1\n",
      "-483.5266014744673 -432.7971153498807 1 1\n",
      "-422.8090609925443 -361.57136201082466 1 1\n",
      "-353.53471218394776 -307.59122271995534 1 1\n",
      "-341.9387037174606 -291.8777969644208 1 1\n",
      "-494.4586575520547 -429.81960005201734 1 1\n",
      "-298.7506687994718 -261.79295523982006 1 1\n",
      "-218.75078288153628 -192.13427365252437 1 1\n",
      "-563.4193997580668 -484.8250588825634 1 1\n",
      "-571.2771882170335 -483.33579287985293 1 1\n",
      "-620.7808394343637 -502.48970866407257 1 1\n",
      "-766.9403133752654 -706.5394347169171 1 1\n",
      "-447.8140322430162 -383.16346977923126 1 1\n",
      "-429.20869346507095 -374.84291002431416 1 1\n",
      "-380.0880344999971 -304.9143084405105 1 1\n",
      "-451.5387363114447 -402.94183427391613 1 1\n",
      "-324.3125603799494 -285.4110984680049 1 1\n",
      "-872.7252983756676 -765.9008883822961 1 1\n",
      "-547.7522985720019 -475.3239237465499 1 1\n",
      "-569.9613345813602 -499.61455909557327 1 1\n",
      "-676.6841426898127 -623.6448058657103 1 1\n",
      "-470.2562865539028 -410.56705413552515 1 1\n",
      "-676.486288651381 -580.0033996389301 1 1\n",
      "-373.47471020671117 -340.62716153514543 1 1\n",
      "-398.8800515336037 -348.80522597046274 1 1\n",
      "-837.9226327570932 -760.2798049262166 1 1\n",
      "-476.20286309229806 -418.3945017279632 1 1\n",
      "-551.6180213178667 -470.18390916298824 1 1\n",
      "-538.9814456336223 -481.5643851230734 1 1\n",
      "-204.5999774290516 -173.1170245646881 1 1\n",
      "-375.7887934895184 -330.1604475437836 1 1\n",
      "-466.66477503143693 -417.68289369171646 1 1\n",
      "-673.3640261857294 -571.4586668120716 1 1\n",
      "-426.768122629103 -359.95203860814934 1 1\n",
      "-575.1064060921846 -529.747053537152 1 1\n",
      "-614.1982867997446 -498.2262466203899 1 1\n",
      "-364.4537709379389 -312.7990470089108 1 1\n",
      "-300.6759596613243 -261.0292621146368 1 1\n",
      "-828.168326851744 -726.0705108535357 1 1\n",
      "-796.5246652839404 -678.9036254524948 1 1\n",
      "-204.1255194494565 -178.50335280855884 1 1\n",
      "-442.93136065114237 -408.0096671237506 1 1\n",
      "-564.3706928096809 -525.19264592609 1 1\n",
      "-247.00339943914165 -205.53854844509365 1 1\n",
      "-444.0582176692591 -371.3469847589488 1 1\n",
      "-452.37643218960505 -382.65033546186726 1 1\n",
      "-456.4519792595323 -393.62829469458615 1 1\n",
      "-496.79531572632453 -442.02488210949286 1 1\n",
      "-423.2940879234886 -361.45553344952054 1 1\n",
      "-524.905645618014 -440.4972184980455 1 1\n",
      "-458.6800111500181 -419.09350828403467 1 1\n",
      "-286.06332293243764 -231.52629867186485 1 1\n",
      "-371.13838266560685 -327.21527316919673 1 1\n",
      "-3642.052871385013 -3277.1659647423544 1 1\n",
      "-411.38050674828565 -366.357003415782 1 1\n",
      "-355.3656923663291 -283.4920277489273 1 1\n",
      "-1276.4324437748078 -1163.9619731638475 1 1\n",
      "-408.2636900164662 -346.03241364981994 1 1\n",
      "-629.3172703876876 -555.5905742967642 1 1\n",
      "-349.0913434398825 -308.9698481727414 1 1\n",
      "-275.1269389544718 -229.02380774882118 1 1\n",
      "-320.22336344960485 -268.9330034490269 1 1\n",
      "-490.35543999608 -417.59040706855086 1 1\n",
      "-501.13860253268246 -448.3733881868521 1 1\n",
      "-449.0700966341206 -381.2351957876567 1 1\n",
      "-273.9708871446947 -256.80670287029045 1 1\n",
      "-799.9875236509338 -760.0627450545018 1 1\n",
      "-672.115792737731 -566.6864378453282 1 1\n",
      "-419.1559505773027 -373.54440254867376 1 1\n",
      "-386.4515591836357 -339.11509457322643 1 1\n",
      "-1358.4570574061865 -1213.3281987434814 1 1\n",
      "-428.9606804593991 -380.0064379939227 1 1\n",
      "-3166.17503211689 -3418.643024499376 0 0\n",
      "-468.28369737069266 -604.5029203357002 0 0\n",
      "-346.98785354675687 -455.09932208210336 0 0\n",
      "-11107.636026816965 -11649.957719836162 0 0\n",
      "-481.73762887155993 -592.6850758481104 0 0\n",
      "-568.5901305036214 -679.1140487814689 0 0\n",
      "-232.898962380491 -249.0034409949551 0 0\n",
      "-330.191423224086 -359.50503581507525 0 0\n",
      "-346.98785354675687 -455.09932208210336 0 0\n",
      "-174.30694743040237 -213.83530387871303 0 0\n",
      "-969.288137766122 -1011.9426903978299 0 0\n",
      "-390.30542015084995 -441.3329084750031 0 0\n",
      "-560.4642810188672 -732.0500628650201 0 0\n",
      "-198.57329392940434 -213.71192485755253 0 0\n",
      "-2797.720339978008 -3031.1415172568663 0 0\n",
      "-390.30542015084995 -441.3329084750031 0 0\n",
      "-1595.923689860293 -1785.5230987699902 0 0\n",
      "-98.44848029083032 -108.62421491562023 0 0\n",
      "-508.24827077339796 -612.5373267865511 0 0\n",
      "-468.68916247880077 -604.5029203357002 0 0\n",
      "-1333.9321076350154 -1427.7973533892632 0 0\n",
      "-1360.4202785688967 -1446.3173696144095 0 0\n",
      "-486.59558501747404 -593.1269086003894 0 0\n",
      "-69.7144373872178 -84.94713979487928 0 0\n",
      "-1451.0779069446075 -1544.886084963936 0 0\n",
      "-652.0612460131948 -823.609769812211 0 0\n",
      "-466.0202576202212 -620.929169388875 0 0\n",
      "-471.93853163089807 -547.5596125556169 0 0\n",
      "-1595.923689860293 -1785.5230987699902 0 0\n",
      "-466.0202576202212 -620.929169388875 0 0\n",
      "-898.5960396022504 -967.4257650512073 0 0\n",
      "-275.98037926874355 -325.96607669165326 0 0\n",
      "-984.516610495185 -1045.8761247139971 0 0\n",
      "-1177.3680291591227 -1278.7961524510142 0 0\n",
      "-500.512443846412 -664.9396214264705 0 0\n",
      "-466.0202576202212 -620.929169388875 0 0\n",
      "-327.48595010096193 -430.07996948565926 0 0\n",
      "-3693.9958660386296 -3949.7678370666217 0 0\n",
      "-2278.294039704823 -2458.2063104267777 0 0\n",
      "-547.5506633230923 -713.8303722564342 0 0\n",
      "-514.9145637271776 -682.4661648544964 0 0\n",
      "-3628.286536408154 -3880.0923996649085 0 0\n",
      "-508.24827077339796 -612.5373267865511 0 0\n",
      "-500.512443846412 -664.9396214264705 0 0\n",
      "-466.0202576202212 -620.929169388875 0 0\n",
      "-2394.6080543423673 -2573.4337258617484 0 0\n",
      "-74.43739060886229 -79.18566033090222 0 0\n",
      "-744.2053114249369 -828.422306897106 0 0\n",
      "-577.6634011454757 -684.1370852000701 0 0\n",
      "-3345.827235846816 -3482.326015013831 0 0\n"
     ]
    }
   ],
   "source": [
    "for i in range(len(x_datavec)):\n",
    "    data = x_datavec[i]\n",
    "    p0 = sum(data*p0vec)+np.log(1-y)\n",
    "    p1 = sum(data*p1vec)+np.log(y)\n",
    "    print(p0,p1,1 if p0<p1 else 0,y_label[i])"
   ]
  },
  {
   "cell_type": "code",
   "execution_count": 15,
   "metadata": {},
   "outputs": [
    {
     "data": {
      "text/plain": [
       "BernoulliNB(alpha=1.0, binarize=0.0, class_prior=None, fit_prior=True)"
      ]
     },
     "execution_count": 15,
     "metadata": {},
     "output_type": "execute_result"
    }
   ],
   "source": [
    "from sklearn.naive_bayes import BernoulliNB\n",
    "from sklearn.model_selection import train_test_split\n",
    "x_train,x_test,y_train,y_test = train_test_split(x_datavec,y_label,test_size=0.1,)\n",
    "clf = BernoulliNB()\n",
    "clf.fit(x_train,y_train)"
   ]
  },
  {
   "cell_type": "code",
   "execution_count": 16,
   "metadata": {},
   "outputs": [
    {
     "data": {
      "text/plain": [
       "0.7333333333333333"
      ]
     },
     "execution_count": 16,
     "metadata": {},
     "output_type": "execute_result"
    }
   ],
   "source": [
    "predY=clf.predict(x_test)\n",
    "import numpy as np\n",
    "np.sum(predY==y_test)/len(y_test)"
   ]
  },
  {
   "cell_type": "code",
   "execution_count": 18,
   "metadata": {},
   "outputs": [],
   "source": [
    "from sklearn.model_selection import cross_val_score\n",
    "krange = range(1,31)\n",
    "error = []\n",
    "for i in krange:\n",
    "    nb = BernoulliNB()\n",
    "    score = cross_val_score(nb,x_datavec,y_label,cv=10,scoring='accuracy')\n",
    "    error.append(1-np.mean(score))\n"
   ]
  },
  {
   "cell_type": "code",
   "execution_count": 20,
   "metadata": {},
   "outputs": [
    {
     "data": {
      "image/png": "[encoded data removed]",
      "text/plain": [
       "<Figure size 432x288 with 1 Axes>"
      ]
     },
     "metadata": {
      "needs_background": "light"
     },
     "output_type": "display_data"
    }
   ],
   "source": [
    "import matplotlib.pyplot as plt\n",
    "plt.plot(krange,error)\n",
    "plt.show()"
   ]
  },
  {
   "cell_type": "code",
   "execution_count": null,
   "metadata": {},
   "outputs": [],
   "source": []
  }
 ],
 "metadata": {
  "kernelspec": {
   "display_name": "Python 3",
   "language": "python",
   "name": "python3"
  },
  "language_info": {
   "codemirror_mode": {
    "name": "ipython",
    "version": 3
   },
   "file_extension": ".py",
   "mimetype": "text/x-python",
   "name": "python",
   "nbconvert_exporter": "python",
   "pygments_lexer": "ipython3",
   "version": "3.5.4"
  }
 },
 "nbformat": 4,
 "nbformat_minor": 4
}
