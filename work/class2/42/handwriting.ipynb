{
 "cells": [
  {
   "cell_type": "markdown",
   "metadata": {},
   "source": [
    "**作业内容：使用sklearn的KNeighborsClassifier api实现KNN算法，解决手写字体识别的分类问题**"
   ]
  },
  {
   "cell_type": "code",
   "execution_count": 23,
   "metadata": {},
   "outputs": [],
   "source": [
    "from numpy import *\n",
    "from os import listdir\n",
    "from collections import Counter\n",
    "import matplotlib.pyplot as plt\n",
    "from sklearn import neighbors\n",
    "from sklearn.model_selection import train_test_split"
   ]
  },
  {
   "cell_type": "code",
   "execution_count": 24,
   "metadata": {},
   "outputs": [],
   "source": [
    "def load_data(name):\n",
    "    # 加载训练集\n",
    "    hwLabels = []\n",
    "    trainingFileList = listdir(name)\n",
    "    m = len(trainingFileList)\n",
    "    trainingMat = zeros((m, 1024))\n",
    "    # hwLabels存储0～9对应的index位置， trainingMat存放的每个位置对应的图片向量\n",
    "    for i in range(m):\n",
    "        fileNameStr = trainingFileList[i]\n",
    "        fileStr = fileNameStr.split('.')[0]  # take off .txt\n",
    "        classNumStr = int(fileStr.split('_')[0])\n",
    "        hwLabels.append(classNumStr)\n",
    "        # 将 32*32的矩阵->1*1024的矩阵\n",
    "        trainingMat[i, :] = img2vector('%s/%s' % (name,fileNameStr))\n",
    "    return  trainingMat,hwLabels\n",
    "\n",
    "def img2vector(filename):\n",
    "    \"\"\"\n",
    "    将图像数据转换为向量\n",
    "    :param filename: 图片文件 因为我们的输入数据的图片格式是 32 * 32的\n",
    "    :return: 一维矩阵\n",
    "    该函数将图像转换为向量：该函数创建 1 * 1024 的NumPy数组，然后打开给定的文件，\n",
    "    循环读出文件的前32行，并将每行的头32个字符值存储在NumPy数组中，最后返回数组。\n",
    "    \"\"\"\n",
    "    returnVect = zeros((1, 1024))\n",
    "    fr = open(filename)\n",
    "    for i in range(32):\n",
    "        lineStr = fr.readline()\n",
    "        for j in range(32):\n",
    "            returnVect[0, 32 * i + j] = int(lineStr[j])\n",
    "    return returnVect\n",
    "    "
   ]
  },
  {
   "cell_type": "code",
   "execution_count": 25,
   "metadata": {},
   "outputs": [
    {
     "data": {
      "image/png": "[encoded data removed]",
      "text/plain": [
       "<Figure size 432x288 with 1 Axes>"
      ]
     },
     "metadata": {
      "needs_background": "light"
     },
     "output_type": "display_data"
    }
   ],
   "source": [
    "#加载数据集\n",
    "x_train,y_train=load_data('trainingDigits')\n",
    "x_test,y_test=load_data('testDigits')\n",
    "\n",
    "\n",
    "# 选定不同的K值做比对\n",
    "fig=plt.figure()\n",
    "ax=fig.add_subplot(1,1,1)\n",
    "training_scores=[]\n",
    "testing_scores=[]\n",
    "Ks=[2,5,7]\n",
    "for k in Ks:\n",
    "    # 调用KNN分类器\n",
    "    knn=neighbors.KNeighborsClassifier(n_neighbors=k)\n",
    "    knn.fit(x_train,y_train)\n",
    "    training_scores.append(knn.score(x_train,y_train))\n",
    "    testing_scores.append(knn.score(x_test,y_test))\n",
    "    \n",
    "ax.plot(Ks,testing_scores,label=\"testing score:\")\n",
    "ax.plot(Ks,training_scores,label=\"training score:weight=%s\")\n",
    "ax.legend(loc='best')\n",
    "ax.set_xlabel(\"K\")\n",
    "ax.set_ylabel(\"score\")\n",
    "ax.set_ylim(0.5,1.05)\n",
    "ax.set_title(\"KNeighborsClassifier\")\n",
    "plt.show()"
   ]
  },
  {
   "cell_type": "code",
   "execution_count": null,
   "metadata": {},
   "outputs": [],
   "source": []
  }
 ],
 "metadata": {
  "kernelspec": {
   "display_name": "Python 3",
   "language": "python",
   "name": "python3"
  },
  "language_info": {
   "codemirror_mode": {
    "name": "ipython",
    "version": 3
   },
   "file_extension": ".py",
   "mimetype": "text/x-python",
   "name": "python",
   "nbconvert_exporter": "python",
   "pygments_lexer": "ipython3",
   "version": "3.7.3"
  }
 },
 "nbformat": 4,
 "nbformat_minor": 2
}
