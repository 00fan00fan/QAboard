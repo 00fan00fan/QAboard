{
 "cells": [
  {
   "cell_type": "markdown",
   "metadata": {},
   "source": [
    "## 作业\n",
    "- 使用sklearn框架库中的朴素贝叶斯算法，对垃圾邮件分类任务中的数据集进行分类实现\n",
    "- 使用sklearn的KNeighborsClassifier api实现KNN算法，解决手写字体识别的分类问题\n",
    "- 使用K折交叉验证寻找最优的K\n",
    "- 使用KNN解决房价预测的回归问题"
   ]
  },
  {
   "cell_type": "markdown",
   "metadata": {},
   "source": [
    "# 使用sklearn框架库中的朴素贝叶斯算法，对垃圾邮件分类任务中的数据集进行分类实现\n"
   ]
  },
  {
   "cell_type": "code",
   "execution_count": 15,
   "metadata": {},
   "outputs": [],
   "source": [
    "import os\n",
    "import pandas as pd\n",
    "import jieba\n",
    "from sklearn.feature_extraction.text import CountVectorizer\n",
    "from sklearn.model_selection import train_test_split\n",
    "from sklearn.naive_bayes import BernoulliNB"
   ]
  },
  {
   "cell_type": "code",
   "execution_count": 16,
   "metadata": {},
   "outputs": [],
   "source": [
    "def word_segment(line, stopwords_list):\n",
    "    word_list = []\n",
    "    for word in jieba.cut(line):\n",
    "        if word.isalpha() and word not in stopwords_list:\n",
    "            word_list.append(word)\n",
    "    return \" \".join(word_list)"
   ]
  },
  {
   "cell_type": "code",
   "execution_count": 17,
   "metadata": {},
   "outputs": [],
   "source": [
    "def feature_transform(texts):\n",
    "    transformer = CountVectorizer()\n",
    "    word_cnt_df = pd.DataFrame(transformer.fit_transform(texts).toarray())\n",
    "    word_cnt_freq = pd.DataFrame(word_cnt_df.apply(sum, axis=0))\n",
    "    word_keep = [word_cnt_freq.index[i] for i in range(word_cnt_freq.shape[0]) if word_cnt_freq.iloc[i, 0] > 5]\n",
    "    features = word_cnt_df[word_keep]\n",
    "    return features"
   ]
  },
  {
   "cell_type": "code",
   "execution_count": 18,
   "metadata": {},
   "outputs": [],
   "source": [
    "def load_data(base_path):\n",
    "    email_file_name = os.path.join(base_path, \"chinesespam.xlsx\")\n",
    "    stopword_file_name = os.path.join(base_path, \"stopwords.txt\")\n",
    "    stopwords_list = [i.strip() for i in open(stopword_file_name, 'r', encoding='utf8').readlines()]\n",
    "    email_df = pd.read_excel(email_file_name, sheet_name=0)\n",
    "    email_df['text'] = email_df.text.apply(lambda x: word_segment(x, stopwords_list))\n",
    "    features = feature_transform(email_df['text'])\n",
    "    labels = email_df['type']\n",
    "    x_train, x_test, y_train, y_test = train_test_split(features, labels, test_size=0.2, random_state=1)\n",
    "    return x_train, x_test, y_train, y_test"
   ]
  },
  {
   "cell_type": "code",
   "execution_count": 19,
   "metadata": {},
   "outputs": [],
   "source": [
    "def model_training(x_train, y_train):\n",
    "    model = BernoulliNB()\n",
    "    model.fit(x_train, y_train)\n",
    "    return model"
   ]
  },
  {
   "cell_type": "code",
   "execution_count": 20,
   "metadata": {},
   "outputs": [
    {
     "name": "stderr",
     "output_type": "stream",
     "text": [
      "Building prefix dict from the default dictionary ...\n",
      "Loading model from cache C:\\Users\\ADMINI~1\\AppData\\Local\\Temp\\jieba.cache\n",
      "Loading model cost 0.824 seconds.\n",
      "Prefix dict has been built successfully.\n"
     ]
    },
    {
     "name": "stdout",
     "output_type": "stream",
     "text": [
      "0.9\n"
     ]
    }
   ],
   "source": [
    "base_path = \"./raw_data\"\n",
    "x_train, x_test, y_train, y_test = load_data(base_path)\n",
    "model = model_training(x_train, y_train)\n",
    "print(model.score(x_test, y_test))"
   ]
  },
  {
   "cell_type": "markdown",
   "metadata": {},
   "source": [
    "# 使用sklearn的KNeighborsClassifier api实现KNN算法，解决手写字体识别的分类问题"
   ]
  },
  {
   "cell_type": "code",
   "execution_count": 21,
   "metadata": {},
   "outputs": [],
   "source": [
    "import os\n",
    "import numpy as np\n",
    "from sklearn.neighbors import KNeighborsClassifier"
   ]
  },
  {
   "cell_type": "code",
   "execution_count": 22,
   "metadata": {},
   "outputs": [],
   "source": [
    "def get_label_feature(folder_path):\n",
    "    label_list = []\n",
    "    feature_list = []\n",
    "    for file_name in os.listdir(folder_path):\n",
    "        label = file_name.split(\"_\")[0]\n",
    "        context = open(os.path.join(folder_path, file_name), 'r').read()\n",
    "        feature = [int(i) for i in list(\"\".join(context.split(\"\\n\")))]\n",
    "        label_list.append(label)\n",
    "        feature_list.append(feature)\n",
    "    return np.array(feature_list), np.array(label_list)"
   ]
  },
  {
   "cell_type": "code",
   "execution_count": 23,
   "metadata": {},
   "outputs": [],
   "source": [
    "def load_data(base_path):\n",
    "    train_folder_path = os.path.join(base_path, \"trainingDigits\")\n",
    "    test_folder_path = os.path.join(base_path, \"testDigits\")\n",
    "    x_train, y_train = get_label_feature(train_folder_path)\n",
    "    x_test, y_test = get_label_feature(test_folder_path)\n",
    "    return x_train, y_train, x_test, y_test"
   ]
  },
  {
   "cell_type": "code",
   "execution_count": 24,
   "metadata": {},
   "outputs": [],
   "source": [
    "def model_training(x_train, y_train):\n",
    "    model = KNeighborsClassifier(n_neighbors=5)\n",
    "    model.fit(x_train, y_train)\n",
    "    return model"
   ]
  },
  {
   "cell_type": "code",
   "execution_count": 27,
   "metadata": {},
   "outputs": [
    {
     "name": "stdout",
     "output_type": "stream",
     "text": [
      "0.9809725158562368\n"
     ]
    }
   ],
   "source": [
    "data_path = \"./raw_data\"\n",
    "base_path = os.path.join(data_path, \"handwritingClass\")\n",
    "x_train, y_train, x_test, y_test = load_data(base_path)\n",
    "model = model_training(x_train, y_train)\n",
    "print(model.score(x_test, y_test))"
   ]
  },
  {
   "cell_type": "markdown",
   "metadata": {},
   "source": [
    "# 使用K折交叉验证寻找最优的K"
   ]
  },
  {
   "cell_type": "code",
   "execution_count": 30,
   "metadata": {},
   "outputs": [],
   "source": [
    "from sklearn.model_selection import GridSearchCV"
   ]
  },
  {
   "cell_type": "code",
   "execution_count": 31,
   "metadata": {},
   "outputs": [],
   "source": [
    "def cross_validation(x_train, y_train, parameters):\n",
    "    estimator = KNeighborsClassifier()\n",
    "    clf = GridSearchCV(estimator=estimator, param_grid=parameters, cv=3, scoring='accuracy')\n",
    "    clf.fit(x_train, y_train)\n",
    "    return clf"
   ]
  },
  {
   "cell_type": "code",
   "execution_count": 32,
   "metadata": {},
   "outputs": [
    {
     "name": "stdout",
     "output_type": "stream",
     "text": [
      "The best parameter is {'n_neighbors': 3}\n"
     ]
    }
   ],
   "source": [
    "parameters = {\"n_neighbors\": range(1, 10, 2)}\n",
    "clf = cross_validation(x_train, y_train, parameters)\n",
    "best_k = clf.best_params_\n",
    "print(\"The best parameter is {}\".format(best_k))"
   ]
  },
  {
   "cell_type": "markdown",
   "metadata": {},
   "source": [
    "# 使用KNN解决房价预测的回归问题"
   ]
  },
  {
   "cell_type": "code",
   "execution_count": 33,
   "metadata": {},
   "outputs": [],
   "source": [
    "import os\n",
    "import numpy as np\n",
    "import pandas as pd\n",
    "from sklearn.preprocessing import MinMaxScaler\n",
    "from sklearn.model_selection import train_test_split\n",
    "from sklearn.neighbors import KNeighborsRegressor\n",
    "from sklearn.model_selection import GridSearchCV"
   ]
  },
  {
   "cell_type": "code",
   "execution_count": 34,
   "metadata": {},
   "outputs": [],
   "source": [
    "def load_data(base_path):\n",
    "    file_path = os.path.join(base_path, \"housing.data.txt\")\n",
    "    col_names = [\"CRIM\", \"ZN\", \"INDUS\", \"CHAS\", \"NOX\", \"RM\", \"AGE\", \"DIS\", \"RAD\", \"TAX\", \"PTRATIO\", \"B\", \"LSTAT\", \"MEDV\"]\n",
    "    df = pd.read_table(file_path, sep='\\s+', names=col_names)\n",
    "    label = np.array(df.pop('MEDV'))\n",
    "    scaler = MinMaxScaler()\n",
    "    features = scaler.fit_transform(df)\n",
    "    x_train, x_test, y_train, y_test = train_test_split(features, label, test_size=0.3, random_state=123)\n",
    "    return x_train, x_test, y_train, y_test"
   ]
  },
  {
   "cell_type": "code",
   "execution_count": 35,
   "metadata": {},
   "outputs": [],
   "source": [
    "def model_traning(x_train, y_train, parameters):\n",
    "    estimator = KNeighborsRegressor()\n",
    "    clf = GridSearchCV(estimator=estimator, param_grid=parameters, cv=3, refit=True, scoring='neg_mean_squared_error')\n",
    "    clf.fit(x_train, y_train)\n",
    "    return clf"
   ]
  },
  {
   "cell_type": "code",
   "execution_count": 36,
   "metadata": {},
   "outputs": [
    {
     "name": "stdout",
     "output_type": "stream",
     "text": [
      "0.6144123268952374\n"
     ]
    }
   ],
   "source": [
    "base_path = \"./raw_data/housingPrice\"\n",
    "x_train, x_test, y_train, y_test = load_data(base_path)\n",
    "parameters = {\"n_neighbors\": range(1, 10, 2)}\n",
    "clf = model_traning(x_train, y_train, parameters)\n",
    "print(clf.best_estimator_.score(x_test, y_test))"
   ]
  },
  {
   "cell_type": "code",
   "execution_count": null,
   "metadata": {},
   "outputs": [],
   "source": []
  }
 ],
 "metadata": {
  "kernelspec": {
   "display_name": "Python 3",
   "language": "python",
   "name": "python3"
  },
  "language_info": {
   "codemirror_mode": {
    "name": "ipython",
    "version": 3
   },
   "file_extension": ".py",
   "mimetype": "text/x-python",
   "name": "python",
   "nbconvert_exporter": "python",
   "pygments_lexer": "ipython3",
   "version": "3.7.5"
  }
 },
 "nbformat": 4,
 "nbformat_minor": 4
}
