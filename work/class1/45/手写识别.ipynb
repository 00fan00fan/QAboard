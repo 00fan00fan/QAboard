{
 "cells": [
  {
   "cell_type": "code",
   "execution_count": 1,
   "metadata": {},
   "outputs": [],
   "source": [
    "from sklearn.neighbors import KNeighborsClassifier\n",
    "from sklearn.model_selection import train_test_split\n",
    "from sklearn.metrics import accuracy_score\n",
    "from sklearn.model_selection import validation_curve\n",
    "import matplotlib.pyplot as plt\n",
    "import pandas as pd\n",
    "import numpy as np\n",
    "import os"
   ]
  },
  {
   "cell_type": "code",
   "execution_count": 84,
   "metadata": {},
   "outputs": [],
   "source": [
    "#load data\n",
    "def load_data(train_dir):\n",
    "    arr = []\n",
    "    # train_dir = 'trainingDigits'\n",
    "    for f in os.listdir(train_dir):\n",
    "        temp_list = []\n",
    "        label = f.split('_')[0]\n",
    "        temp_df = pd.read_csv(train_dir+'/'+f, header=None).astype(str)\n",
    "        for line in temp_df[0].values.tolist():\n",
    "            temp_list.extend(list(line))\n",
    "        temp_list.extend(label)\n",
    "        arr.append(temp_list)\n",
    "    df = pd.DataFrame(arr)\n",
    "    return df"
   ]
  },
  {
   "cell_type": "code",
   "execution_count": 85,
   "metadata": {},
   "outputs": [],
   "source": [
    "#load train data\n",
    "train_data = load_data('trainingDigits')\n",
    "# load test data\n",
    "test_data = load_data('testDigits')"
   ]
  },
  {
   "cell_type": "code",
   "execution_count": 90,
   "metadata": {},
   "outputs": [
    {
     "data": {
      "image/png": "[encoded data removed]",
      "text/plain": [
       "<Figure size 432x288 with 1 Axes>"
      ]
     },
     "metadata": {},
     "output_type": "display_data"
    }
   ],
   "source": [
    "#select K\n",
    "param_name = 'n_neighbors'\n",
    "param_range = range(1, 31)\n",
    "X_train = train_data.iloc[:, :1024].values\n",
    "y_train = train_data[1024].tolist()\n",
    "train_scores, test_scores = validation_curve(KNeighborsClassifier(), X_train, y_train, cv=5, param_name=param_name, param_range=param_range, scoring='accuracy')\n",
    "train_scores_mean = np.mean(train_scores, axis=1)\n",
    "test_scores_mean = np.mean(test_scores, axis=1)\n",
    "\n",
    "#plot\n",
    "plt.plot(param_range, train_scores_mean, color='red', label='train')\n",
    "plt.plot(param_range, test_scores_mean, color='green', label='test')\n",
    "plt.legend('best')\n",
    "plt.xlabel('param range of k')\n",
    "plt.ylabel('scores mean')\n",
    "plt.show()"
   ]
  },
  {
   "cell_type": "code",
   "execution_count": 93,
   "metadata": {},
   "outputs": [
    {
     "data": {
      "text/plain": [
       "KNeighborsClassifier(algorithm='auto', leaf_size=30, metric='minkowski',\n",
       "           metric_params=None, n_jobs=1, n_neighbors=3, p=2,\n",
       "           weights='uniform')"
      ]
     },
     "execution_count": 93,
     "metadata": {},
     "output_type": "execute_result"
    }
   ],
   "source": [
    "#train\n",
    "classifier = KNeighborsClassifier(n_neighbors=3)\n",
    "classifier.fit(X_train, y_train)"
   ]
  },
  {
   "cell_type": "code",
   "execution_count": 94,
   "metadata": {},
   "outputs": [
    {
     "name": "stdout",
     "output_type": "stream",
     "text": [
      "0.9873150105708245\n"
     ]
    }
   ],
   "source": [
    "#test\n",
    "X_test = test_data.iloc[:, :1024].values\n",
    "y_test = test_data[1024].tolist()\n",
    "score = classifier.score(X_test, y_test)\n",
    "print(score)"
   ]
  }
 ],
 "metadata": {
  "kernelspec": {
   "display_name": "Python 3",
   "language": "python",
   "name": "python3"
  },
  "language_info": {
   "codemirror_mode": {
    "name": "ipython",
    "version": 3
   },
   "file_extension": ".py",
   "mimetype": "text/x-python",
   "name": "python",
   "nbconvert_exporter": "python",
   "pygments_lexer": "ipython3",
   "version": "3.6.5"
  }
 },
 "nbformat": 4,
 "nbformat_minor": 2
}
