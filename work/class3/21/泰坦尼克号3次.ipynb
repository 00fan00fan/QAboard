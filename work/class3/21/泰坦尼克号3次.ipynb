{
 "cells": [
  {
   "cell_type": "code",
   "execution_count": 2,
   "metadata": {},
   "outputs": [],
   "source": [
    "from sklearn.linear_model import LogisticRegression\n",
    "from sklearn.model_selection import GridSearchCV\n",
    "from sklearn.feature_extraction import DictVectorizer\n",
    "import numpy as np\n",
    "import pandas as pd\n",
    "from sklearn.model_selection import cross_val_score\n",
    "from sklearn.preprocessing import StandardScaler\n"
   ]
  },
  {
   "cell_type": "code",
   "execution_count": 55,
   "metadata": {},
   "outputs": [
    {
     "name": "stdout",
     "output_type": "stream",
     "text": [
      "<class 'pandas.core.frame.DataFrame'>\n",
      "RangeIndex: 891 entries, 0 to 890\n",
      "Data columns (total 12 columns):\n",
      "PassengerId    891 non-null int64\n",
      "Survived       891 non-null int64\n",
      "Pclass         891 non-null int64\n",
      "Name           891 non-null object\n",
      "Sex            891 non-null object\n",
      "Age            714 non-null float64\n",
      "SibSp          891 non-null int64\n",
      "Parch          891 non-null int64\n",
      "Ticket         891 non-null object\n",
      "Fare           891 non-null float64\n",
      "Cabin          204 non-null object\n",
      "Embarked       889 non-null object\n",
      "dtypes: float64(2), int64(5), object(5)\n",
      "memory usage: 83.6+ KB\n",
      "None\n",
      "============================================================\n",
      "                       Name   Sex  Ticket    Cabin Embarked\n",
      "count                   891   891     891      204      889\n",
      "unique                  891     2     681      147        3\n",
      "top     Leonard, Mr. Lionel  male  347082  B96 B98        S\n",
      "freq                      1   577       7        4      644\n"
     ]
    }
   ],
   "source": [
    "#读取数据\n",
    "def input_data():\n",
    "    train_data = pd.read_csv(\"./train.csv\")\n",
    "    test_data = pd.read_csv(\"./test.csv\")\n",
    "    test_label = pd.read_csv(\"./gender_submission.csv\")\n",
    "    test_data[\"Survived\"] = test_label.Survived\n",
    "    return train_data,test_data\n",
    "train_data,test_data = input_data()\n",
    "print(train_data.info())\n",
    "print(\"==\"*30)\n",
    "# print(test_data.info())\n",
    "print(train_data.describe(include=['O']))\n",
    "# print(\"==\"*30)\n",
    "# print(test_data.describe(include=['O']))"
   ]
  },
  {
   "cell_type": "code",
   "execution_count": 57,
   "metadata": {},
   "outputs": [],
   "source": [
    "#数据处理\n",
    "def data_do(dataset):\n",
    "    dataset.Age.fillna(dataset.Age.mean(),inplace=True)\n",
    "    dataset.Embarked.fillna('S',inplace=True)\n",
    "    dataset.Fare.fillna(dataset.Fare.mean(),inplace=True)\n",
    "    return dataset\n",
    "train_data = data_do(train_data)\n",
    "test_data = data_do(test_data)"
   ]
  },
  {
   "cell_type": "code",
   "execution_count": 58,
   "metadata": {},
   "outputs": [],
   "source": [
    "#提取特征\n",
    "features = ['Pclass','Sex','Age','SibSp','Parch','Fare','Embarked']\n",
    "label = ['Survived']\n",
    "train_features = train_data[features]\n",
    "test_features = test_data[features]\n",
    "train_label = train_data[label]\n",
    "test_label = test_data[label]"
   ]
  },
  {
   "cell_type": "code",
   "execution_count": 59,
   "metadata": {},
   "outputs": [
    {
     "name": "stdout",
     "output_type": "stream",
     "text": [
      "(418, 9)\n",
      "<class 'pandas.core.frame.DataFrame'>\n",
      "(418, 12)\n"
     ]
    }
   ],
   "source": [
    "#特征处理\n",
    "train_featurs1 = pd.concat([pd.get_dummies(train_features.Pclass,prefix='Pclass'),train_features],axis=1).drop(\"Pclass\",axis=1)\n",
    "test_features1 = pd.concat([pd.get_dummies(test_features.Pclass,prefix='Pclass'),test_features],axis=1).drop(\"Pclass\",axis=1)\n",
    "print(test_features1.shape)\n",
    "print(type(test_features1))\n",
    "dvec = DictVectorizer(sparse=False)\n",
    "train_features2 = dvec.fit_transform(train_featurs1.to_dict(orient='records'))\n",
    "test_features2 = dvec.transform(test_features1.to_dict(orient='records'))\n",
    "print(test_features2.shape)\n"
   ]
  },
  {
   "cell_type": "code",
   "execution_count": 60,
   "metadata": {},
   "outputs": [
    {
     "data": {
      "text/plain": [
       "['Age',\n",
       " 'Embarked=C',\n",
       " 'Embarked=Q',\n",
       " 'Embarked=S',\n",
       " 'Fare',\n",
       " 'Parch',\n",
       " 'Pclass_1',\n",
       " 'Pclass_2',\n",
       " 'Pclass_3',\n",
       " 'Sex=female',\n",
       " 'Sex=male',\n",
       " 'SibSp']"
      ]
     },
     "execution_count": 60,
     "metadata": {},
     "output_type": "execute_result"
    }
   ],
   "source": [
    "dvec.feature_names_"
   ]
  },
  {
   "cell_type": "code",
   "execution_count": 61,
   "metadata": {},
   "outputs": [],
   "source": [
    "sds = StandardScaler()\n",
    "\n",
    "train_age = sds.fit_transform(train_features2[:,0].reshape(-1,1))\n",
    "test_age = sds.transform(test_features2[:,0].reshape(-1,1))\n",
    "\n",
    "train_features3 = np.hstack((train_features2[:,1:],train_age))\n",
    "test_features3 = np.hstack((test_features2[:,1:],test_age))"
   ]
  },
  {
   "cell_type": "code",
   "execution_count": 62,
   "metadata": {},
   "outputs": [
    {
     "name": "stderr",
     "output_type": "stream",
     "text": [
      "D:\\conda\\parse\\lib\\site-packages\\sklearn\\linear_model\\logistic.py:433: FutureWarning: Default solver will be changed to 'lbfgs' in 0.22. Specify a solver to silence this warning.\n",
      "  FutureWarning)\n",
      "D:\\conda\\parse\\lib\\site-packages\\sklearn\\utils\\validation.py:761: DataConversionWarning: A column-vector y was passed when a 1d array was expected. Please change the shape of y to (n_samples, ), for example using ravel().\n",
      "  y = column_or_1d(y, warn=True)\n"
     ]
    },
    {
     "data": {
      "text/plain": [
       "LogisticRegression(C=1.0, class_weight=None, dual=False, fit_intercept=True,\n",
       "          intercept_scaling=1, max_iter=100, multi_class='warn',\n",
       "          n_jobs=None, penalty='l2', random_state=None, solver='warn',\n",
       "          tol=0.0001, verbose=0, warm_start=False)"
      ]
     },
     "execution_count": 62,
     "metadata": {},
     "output_type": "execute_result"
    }
   ],
   "source": [
    "lg = LogisticRegression()\n",
    "lg.fit(train_features3,train_label)"
   ]
  },
  {
   "cell_type": "code",
   "execution_count": 63,
   "metadata": {},
   "outputs": [
    {
     "data": {
      "text/plain": [
       "0.8047138047138047"
      ]
     },
     "execution_count": 63,
     "metadata": {},
     "output_type": "execute_result"
    }
   ],
   "source": [
    "lg.score(train_features3,train_label)"
   ]
  },
  {
   "cell_type": "code",
   "execution_count": 66,
   "metadata": {},
   "outputs": [
    {
     "data": {
      "text/plain": [
       "0.9473684210526315"
      ]
     },
     "execution_count": 66,
     "metadata": {},
     "output_type": "execute_result"
    }
   ],
   "source": [
    "lg.score(test_features3,test_label)"
   ]
  },
  {
   "cell_type": "code",
   "execution_count": null,
   "metadata": {},
   "outputs": [],
   "source": []
  },
  {
   "cell_type": "code",
   "execution_count": null,
   "metadata": {},
   "outputs": [],
   "source": []
  }
 ],
 "metadata": {
  "kernelspec": {
   "display_name": "Python 3",
   "language": "python",
   "name": "python3"
  },
  "language_info": {
   "codemirror_mode": {
    "name": "ipython",
    "version": 3
   },
   "file_extension": ".py",
   "mimetype": "text/x-python",
   "name": "python",
   "nbconvert_exporter": "python",
   "pygments_lexer": "ipython3",
   "version": "3.7.3"
  }
 },
 "nbformat": 4,
 "nbformat_minor": 2
}
