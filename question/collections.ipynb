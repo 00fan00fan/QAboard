{
 "cells": [
  {
   "cell_type": "markdown",
   "metadata": {},
   "source": [
    "# Q:"
   ]
  },
  {
   "cell_type": "markdown",
   "metadata": {},
   "source": [
    "## 为什么信息增益率偏向取值少的特征\n",
    "特征取值越小，IV越小，增益率越大，特征约容易被选择到  \n",
    "惩罚系数是1/iv"
   ]
  },
  {
   "cell_type": "markdown",
   "metadata": {},
   "source": [
    "## sklearn是如何处理index的类别特征，不与数值特征混淆的"
   ]
  },
  {
   "cell_type": "markdown",
   "metadata": {},
   "source": [
    "## cart切分连续值\n",
    "[0.1,0.3,0.5,0.6,0.7]\n",
    "[0.1] vs [0.3,0.5,0.6,0.7] -> mse增益\n",
    "[0.1,0.3] vs [0.5,0.6,0.7]\n",
    "[0.1,0.3，0.5] vs [,0.6,0.7]\n",
    "\n",
    "0.3>= <0.3\n"
   ]
  },
  {
   "cell_type": "markdown",
   "metadata": {},
   "source": [
    "## 离群点如何判断\n",
    "使用分位数进行判断，可以简单将大于98%分位点和小于2%分位点的数据  \n",
    "1>剔除  \n",
    "2>替换为98%分位点的值本身  \n",
    "\n",
    "#### 使用什么画图工具进行分析\n",
    "seaborn：http://seaborn.pydata.org/\n",
    "文档很简单，半小时就会了~"
   ]
  },
  {
   "cell_type": "markdown",
   "metadata": {},
   "source": [
    "## 互信息用python如何计算\n",
    "\n",
    "https://scikit-learn.org/stable/modules/generated/sklearn.metrics.mutual_info_score.html#sklearn.metrics.mutual_info_score\n"
   ]
  },
  {
   "cell_type": "markdown",
   "metadata": {},
   "source": [
    "## 梯度和导数的关系\n",
    "从更标准的数学层面看，梯度是某点处方向导数在该方向的最大值  \n",
    "假设我们有一个一元二次函数，比如抛物线函数，它的梯度和导数是一致的  \n",
    "但是，想象一个多元的函数，我们的特征有很多个，那损失函数是一个曲面,例如：  \n",
    "![](./question/img/a.jpg)\n",
    "\n",
    "一个面上的切线都是导数，而这样的切线有无数个，但只有最大的那个导数是梯度  \n",
    "这样形容你可以理解吗  "
   ]
  },
  {
   "cell_type": "markdown",
   "metadata": {},
   "source": []
  },
  {
   "cell_type": "markdown",
   "metadata": {},
   "source": []
  },
  {
   "cell_type": "markdown",
   "metadata": {},
   "source": []
  }
 ],
 "metadata": {
  "kernelspec": {
   "display_name": "Python 3",
   "language": "python",
   "name": "python3"
  },
  "language_info": {
   "codemirror_mode": {
    "name": "ipython",
    "version": 3
   },
   "file_extension": ".py",
   "mimetype": "text/x-python",
   "name": "python",
   "nbconvert_exporter": "python",
   "pygments_lexer": "ipython3",
   "version": "3.7.6"
  }
 },
 "nbformat": 4,
 "nbformat_minor": 4
}
